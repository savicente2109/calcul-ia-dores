{
 "cells": [
  {
   "cell_type": "code",
   "execution_count": 1,
   "metadata": {},
   "outputs": [],
   "source": [
    "## Incluimos Rutas a los archivos necesarios:\n",
    "\n",
    "TRAIN_PATH='TRAIN.csv'\n",
    "DATA_ACCENTURE_PATH='frases.csv'"
   ]
  },
  {
   "cell_type": "markdown",
   "metadata": {
    "id": "bjzhaBg_z7B6"
   },
   "source": [
    "# Cargamos los datos"
   ]
  },
  {
   "cell_type": "markdown",
   "metadata": {
    "id": "PBrSppxv0AGe"
   },
   "source": [
    "Comenzamos cargando las librerías y el dataset que hemos creado, para así poder entrenar el modelo."
   ]
  },
  {
   "cell_type": "code",
   "execution_count": 2,
   "metadata": {
    "executionInfo": {
     "elapsed": 741,
     "status": "ok",
     "timestamp": 1698997200287,
     "user": {
      "displayName": "Pablo Martín Viñuelas",
      "userId": "03315396031906300120"
     },
     "user_tz": -60
    },
    "id": "HiAKp498UlHO"
   },
   "outputs": [],
   "source": [
    "#Importamos las librerías necesarias\n",
    "\n",
    "import numpy as np\n",
    "import pandas as pd\n",
    "import re\n",
    "import matplotlib.pyplot as plt\n",
    "\n",
    "\n",
    "%matplotlib inline"
   ]
  },
  {
   "cell_type": "code",
   "execution_count": 3,
   "metadata": {
    "executionInfo": {
     "elapsed": 1656,
     "status": "ok",
     "timestamp": 1698997224730,
     "user": {
      "displayName": "Pablo Martín Viñuelas",
      "userId": "03315396031906300120"
     },
     "user_tz": -60
    },
    "id": "2FD-qTOxYPX-"
   },
   "outputs": [],
   "source": [
    "#Cargamos el fichero con los datos\n",
    "\n",
    "df = pd.read_csv(TRAIN_PATH)\n",
    "\n",
    "#Cambiamos los nombres de las columnas a minúscula para evitarnos problemas en el futuro\n",
    "df = df.rename(columns={'Frases': 'sentence', 'Tipo texto': 'source'})"
   ]
  },
  {
   "cell_type": "markdown",
   "metadata": {
    "id": "j4FvwwJK0QOc"
   },
   "source": [
    "Veamos que el dataset con el que vamos a trabajar está bien estructurado."
   ]
  },
  {
   "cell_type": "code",
   "execution_count": 4,
   "metadata": {
    "colab": {
     "base_uri": "https://localhost:8080/",
     "height": 206
    },
    "executionInfo": {
     "elapsed": 391,
     "status": "ok",
     "timestamp": 1698997230866,
     "user": {
      "displayName": "Pablo Martín Viñuelas",
      "userId": "03315396031906300120"
     },
     "user_tz": -60
    },
    "id": "5Eh-y-1o_erg",
    "outputId": "ed22a759-1b12-4cf2-fa4e-2098ce942f69"
   },
   "outputs": [
    {
     "data": {
      "text/html": [
       "<div>\n",
       "<style scoped>\n",
       "    .dataframe tbody tr th:only-of-type {\n",
       "        vertical-align: middle;\n",
       "    }\n",
       "\n",
       "    .dataframe tbody tr th {\n",
       "        vertical-align: top;\n",
       "    }\n",
       "\n",
       "    .dataframe thead th {\n",
       "        text-align: right;\n",
       "    }\n",
       "</style>\n",
       "<table border=\"1\" class=\"dataframe\">\n",
       "  <thead>\n",
       "    <tr style=\"text-align: right;\">\n",
       "      <th></th>\n",
       "      <th>sentence</th>\n",
       "      <th>source</th>\n",
       "    </tr>\n",
       "  </thead>\n",
       "  <tbody>\n",
       "    <tr>\n",
       "      <th>0</th>\n",
       "      <td>En el tribunal, el juez dictó una sentencia en...</td>\n",
       "      <td>IA</td>\n",
       "    </tr>\n",
       "    <tr>\n",
       "      <th>1</th>\n",
       "      <td>El médico, en su consultorio, realizó un diagn...</td>\n",
       "      <td>IA</td>\n",
       "    </tr>\n",
       "    <tr>\n",
       "      <th>2</th>\n",
       "      <td>La densidad de la mama es la cantidad relativa...</td>\n",
       "      <td>Humano</td>\n",
       "    </tr>\n",
       "    <tr>\n",
       "      <th>3</th>\n",
       "      <td>El bosque, un tapiz de árboles y hojas, era un...</td>\n",
       "      <td>IA</td>\n",
       "    </tr>\n",
       "    <tr>\n",
       "      <th>4</th>\n",
       "      <td>La ética de la virtud se centra en el desarrol...</td>\n",
       "      <td>IA</td>\n",
       "    </tr>\n",
       "  </tbody>\n",
       "</table>\n",
       "</div>"
      ],
      "text/plain": [
       "                                            sentence  source\n",
       "0  En el tribunal, el juez dictó una sentencia en...      IA\n",
       "1  El médico, en su consultorio, realizó un diagn...      IA\n",
       "2  La densidad de la mama es la cantidad relativa...  Humano\n",
       "3  El bosque, un tapiz de árboles y hojas, era un...      IA\n",
       "4  La ética de la virtud se centra en el desarrol...      IA"
      ]
     },
     "execution_count": 4,
     "metadata": {},
     "output_type": "execute_result"
    }
   ],
   "source": [
    "#Comprobamos que está bien procesado observando las primeras filas\n",
    "df.head()"
   ]
  },
  {
   "cell_type": "code",
   "execution_count": 5,
   "metadata": {
    "colab": {
     "base_uri": "https://localhost:8080/",
     "height": 206
    },
    "executionInfo": {
     "elapsed": 5,
     "status": "ok",
     "timestamp": 1698997231299,
     "user": {
      "displayName": "Pablo Martín Viñuelas",
      "userId": "03315396031906300120"
     },
     "user_tz": -60
    },
    "id": "M3-w59RA0WjA",
    "outputId": "dbc9dbc4-b656-4019-a0ff-1a40c56c15eb"
   },
   "outputs": [
    {
     "data": {
      "text/html": [
       "<div>\n",
       "<style scoped>\n",
       "    .dataframe tbody tr th:only-of-type {\n",
       "        vertical-align: middle;\n",
       "    }\n",
       "\n",
       "    .dataframe tbody tr th {\n",
       "        vertical-align: top;\n",
       "    }\n",
       "\n",
       "    .dataframe thead th {\n",
       "        text-align: right;\n",
       "    }\n",
       "</style>\n",
       "<table border=\"1\" class=\"dataframe\">\n",
       "  <thead>\n",
       "    <tr style=\"text-align: right;\">\n",
       "      <th></th>\n",
       "      <th>sentence</th>\n",
       "      <th>source</th>\n",
       "    </tr>\n",
       "  </thead>\n",
       "  <tbody>\n",
       "    <tr>\n",
       "      <th>0</th>\n",
       "      <td>En el tribunal, el juez dictó una sentencia en...</td>\n",
       "      <td>IA</td>\n",
       "    </tr>\n",
       "    <tr>\n",
       "      <th>1</th>\n",
       "      <td>El médico, en su consultorio, realizó un diagn...</td>\n",
       "      <td>IA</td>\n",
       "    </tr>\n",
       "    <tr>\n",
       "      <th>3</th>\n",
       "      <td>El bosque, un tapiz de árboles y hojas, era un...</td>\n",
       "      <td>IA</td>\n",
       "    </tr>\n",
       "    <tr>\n",
       "      <th>4</th>\n",
       "      <td>La ética de la virtud se centra en el desarrol...</td>\n",
       "      <td>IA</td>\n",
       "    </tr>\n",
       "    <tr>\n",
       "      <th>6</th>\n",
       "      <td>Se utiliza en la conducción autónoma para mejo...</td>\n",
       "      <td>IA</td>\n",
       "    </tr>\n",
       "  </tbody>\n",
       "</table>\n",
       "</div>"
      ],
      "text/plain": [
       "                                            sentence source\n",
       "0  En el tribunal, el juez dictó una sentencia en...     IA\n",
       "1  El médico, en su consultorio, realizó un diagn...     IA\n",
       "3  El bosque, un tapiz de árboles y hojas, era un...     IA\n",
       "4  La ética de la virtud se centra en el desarrol...     IA\n",
       "6  Se utiliza en la conducción autónoma para mejo...     IA"
      ]
     },
     "execution_count": 5,
     "metadata": {},
     "output_type": "execute_result"
    }
   ],
   "source": [
    "#Vamos a ver un ejemplo de cada 'source'\n",
    "\n",
    "#Primero vemos el de IA\n",
    "\n",
    "df.loc[df['source'] == \"IA\"].head()"
   ]
  },
  {
   "cell_type": "code",
   "execution_count": 6,
   "metadata": {
    "colab": {
     "base_uri": "https://localhost:8080/",
     "height": 206
    },
    "executionInfo": {
     "elapsed": 479,
     "status": "ok",
     "timestamp": 1698997232795,
     "user": {
      "displayName": "Pablo Martín Viñuelas",
      "userId": "03315396031906300120"
     },
     "user_tz": -60
    },
    "id": "AzDv8V9j5DNB",
    "outputId": "4c0ba42d-453f-4821-f778-157e40de8518"
   },
   "outputs": [
    {
     "data": {
      "text/html": [
       "<div>\n",
       "<style scoped>\n",
       "    .dataframe tbody tr th:only-of-type {\n",
       "        vertical-align: middle;\n",
       "    }\n",
       "\n",
       "    .dataframe tbody tr th {\n",
       "        vertical-align: top;\n",
       "    }\n",
       "\n",
       "    .dataframe thead th {\n",
       "        text-align: right;\n",
       "    }\n",
       "</style>\n",
       "<table border=\"1\" class=\"dataframe\">\n",
       "  <thead>\n",
       "    <tr style=\"text-align: right;\">\n",
       "      <th></th>\n",
       "      <th>sentence</th>\n",
       "      <th>source</th>\n",
       "    </tr>\n",
       "  </thead>\n",
       "  <tbody>\n",
       "    <tr>\n",
       "      <th>2</th>\n",
       "      <td>La densidad de la mama es la cantidad relativa...</td>\n",
       "      <td>Humano</td>\n",
       "    </tr>\n",
       "    <tr>\n",
       "      <th>5</th>\n",
       "      <td>Según el Presidente iraquí Jalal Talabani, al ...</td>\n",
       "      <td>Humano</td>\n",
       "    </tr>\n",
       "    <tr>\n",
       "      <th>8</th>\n",
       "      <td>Si hemos de creer las encuestas de opinión, el...</td>\n",
       "      <td>Humano</td>\n",
       "    </tr>\n",
       "    <tr>\n",
       "      <th>10</th>\n",
       "      <td>Los residentes locales dicen que los cortes en...</td>\n",
       "      <td>Humano</td>\n",
       "    </tr>\n",
       "    <tr>\n",
       "      <th>11</th>\n",
       "      <td>El Consejo de Ministros se encontró en el pala...</td>\n",
       "      <td>Humano</td>\n",
       "    </tr>\n",
       "  </tbody>\n",
       "</table>\n",
       "</div>"
      ],
      "text/plain": [
       "                                             sentence  source\n",
       "2   La densidad de la mama es la cantidad relativa...  Humano\n",
       "5   Según el Presidente iraquí Jalal Talabani, al ...  Humano\n",
       "8   Si hemos de creer las encuestas de opinión, el...  Humano\n",
       "10  Los residentes locales dicen que los cortes en...  Humano\n",
       "11  El Consejo de Ministros se encontró en el pala...  Humano"
      ]
     },
     "execution_count": 6,
     "metadata": {},
     "output_type": "execute_result"
    }
   ],
   "source": [
    "#Ahora de un texto de humano\n",
    "\n",
    "df.loc[df['source'] == \"Humano\"].head()"
   ]
  },
  {
   "cell_type": "code",
   "execution_count": 7,
   "metadata": {
    "colab": {
     "base_uri": "https://localhost:8080/"
    },
    "executionInfo": {
     "elapsed": 3,
     "status": "ok",
     "timestamp": 1698997233205,
     "user": {
      "displayName": "Pablo Martín Viñuelas",
      "userId": "03315396031906300120"
     },
     "user_tz": -60
    },
    "id": "9vPpKpbz5ORP",
    "outputId": "6eb7f3e5-313f-427f-c0d3-1e7476c4529c"
   },
   "outputs": [
    {
     "data": {
      "text/plain": [
       "sentence    2134\n",
       "source      2134\n",
       "dtype: int64"
      ]
     },
     "execution_count": 7,
     "metadata": {},
     "output_type": "execute_result"
    }
   ],
   "source": [
    "#Finalmente veamos la dimensión de los datos con los que estamos trabajando.\n",
    "\n",
    "df.count()"
   ]
  },
  {
   "cell_type": "markdown",
   "metadata": {
    "id": "zYZK0Q-o5zGH"
   },
   "source": [
    "# Procesado de los datos"
   ]
  },
  {
   "cell_type": "markdown",
   "metadata": {
    "id": "N5CEL2BM52ON"
   },
   "source": [
    "Vamos ahora a procesar los datos, de manera que obtengamos una representación más adecuada de los mismo a la hora de tratarlos."
   ]
  },
  {
   "cell_type": "code",
   "execution_count": 8,
   "metadata": {
    "executionInfo": {
     "elapsed": 329,
     "status": "ok",
     "timestamp": 1698997238565,
     "user": {
      "displayName": "Pablo Martín Viñuelas",
      "userId": "03315396031906300120"
     },
     "user_tz": -60
    },
    "id": "GnBUCLNLUqCS"
   },
   "outputs": [],
   "source": [
    "#Vamos a llevar a cabo un primer pre-procesamiento simple\n",
    "\n",
    "import re\n",
    "def normalize_document(doc):\n",
    "\n",
    "    #remove html tags (Los textos tienen etiquetas html que hacen la tokenizacion mas dificil)\n",
    "    doc = re.sub(r'<[^>]+>','', doc)\n",
    "    #remove withespaces and break lines\n",
    "    doc = ' '.join(doc.strip().split())\n",
    "    #remove special characters\n",
    "    doc = doc.lower()\n",
    "\n",
    "    return doc\n",
    "\n",
    "normalize_corpus = np.vectorize(normalize_document)"
   ]
  },
  {
   "cell_type": "markdown",
   "metadata": {
    "id": "p1bFGx7J6eZ_"
   },
   "source": [
    "Para poder entrenar y examinar adecuadamente, dividimos el conjunto de datos en dos partes. Una primera que vamos a utilizar para el entrenamiento, y una segunda que se usará para examinar el modelo."
   ]
  },
  {
   "cell_type": "code",
   "execution_count": 9,
   "metadata": {
    "executionInfo": {
     "elapsed": 315,
     "status": "ok",
     "timestamp": 1698997255772,
     "user": {
      "displayName": "Pablo Martín Viñuelas",
      "userId": "03315396031906300120"
     },
     "user_tz": -60
    },
    "id": "Ly69AdOKeTkb"
   },
   "outputs": [],
   "source": [
    "#Vamos a dividir el dataset en un 99% - 1% para entrenamiento - test\n",
    "\n",
    "RANDOM_STATE = 1234\n",
    "\n",
    "from sklearn.model_selection import train_test_split\n",
    "\n",
    "sentence_train, sentence_test, source_train, source_test = train_test_split(df['sentence'], df['source'], test_size=0.01, random_state=RANDOM_STATE)"
   ]
  },
  {
   "cell_type": "code",
   "execution_count": 10,
   "metadata": {
    "executionInfo": {
     "elapsed": 4,
     "status": "ok",
     "timestamp": 1698997256894,
     "user": {
      "displayName": "Pablo Martín Viñuelas",
      "userId": "03315396031906300120"
     },
     "user_tz": -60
    },
    "id": "0vAsmaWsYPYD"
   },
   "outputs": [],
   "source": [
    "#Primero normalizamos los datos de entrenamiento y test\n",
    "train_corpus = normalize_corpus(sentence_train)\n",
    "test_corpus = normalize_corpus(sentence_test)"
   ]
  },
  {
   "cell_type": "markdown",
   "metadata": {
    "id": "e8ppOeg97sVr"
   },
   "source": [
    "# Representación simple con frecuencia"
   ]
  },
  {
   "cell_type": "markdown",
   "metadata": {
    "id": "YOl0lcAr7JlQ"
   },
   "source": [
    "Vamos a transformar cada texto en un vector de palabras con su frecuencia de aparición.\n",
    " Las palabras que no aparecen en el texto pero sí en el resto del conjunto de datos tendrán valor 0."
   ]
  },
  {
   "cell_type": "code",
   "execution_count": 11,
   "metadata": {
    "colab": {
     "base_uri": "https://localhost:8080/"
    },
    "executionInfo": {
     "elapsed": 616,
     "status": "ok",
     "timestamp": 1698997261294,
     "user": {
      "displayName": "Pablo Martín Viñuelas",
      "userId": "03315396031906300120"
     },
     "user_tz": -60
    },
    "id": "UDnXEuOGYPYF",
    "outputId": "d5dde5f5-1e07-4958-e8cf-f1c6453939be",
    "tags": []
   },
   "outputs": [
    {
     "data": {
      "text/plain": [
       "array([[0, 0, 0, ..., 0, 0, 0],\n",
       "       [0, 0, 0, ..., 0, 0, 0],\n",
       "       [0, 0, 0, ..., 0, 0, 0],\n",
       "       ...,\n",
       "       [0, 0, 0, ..., 0, 0, 0],\n",
       "       [0, 0, 0, ..., 0, 0, 0],\n",
       "       [0, 0, 0, ..., 0, 0, 0]])"
      ]
     },
     "execution_count": 11,
     "metadata": {},
     "output_type": "execute_result"
    }
   ],
   "source": [
    "#Vamos a llevar a cabo estas acciones con la librería Scikit-learn, en concreto con\n",
    "#CountVectorizer. Veamos que pasa si no le proporcionamos un diccionario.\n",
    "\n",
    "from sklearn.feature_extraction.text import CountVectorizer\n",
    "\n",
    "cv = CountVectorizer()\n",
    "cv_matrix = cv.fit_transform(train_corpus)\n",
    "cv_matrix = cv_matrix.toarray()\n",
    "cv_matrix"
   ]
  },
  {
   "cell_type": "code",
   "execution_count": 12,
   "metadata": {
    "colab": {
     "base_uri": "https://localhost:8080/",
     "height": 424
    },
    "executionInfo": {
     "elapsed": 6,
     "status": "ok",
     "timestamp": 1698997262668,
     "user": {
      "displayName": "Pablo Martín Viñuelas",
      "userId": "03315396031906300120"
     },
     "user_tz": -60
    },
    "id": "DOBBDFOEYPYG",
    "outputId": "7c25a105-587f-4a0a-db1e-8db2b062704f",
    "tags": []
   },
   "outputs": [
    {
     "data": {
      "text/html": [
       "<div>\n",
       "<style scoped>\n",
       "    .dataframe tbody tr th:only-of-type {\n",
       "        vertical-align: middle;\n",
       "    }\n",
       "\n",
       "    .dataframe tbody tr th {\n",
       "        vertical-align: top;\n",
       "    }\n",
       "\n",
       "    .dataframe thead th {\n",
       "        text-align: right;\n",
       "    }\n",
       "</style>\n",
       "<table border=\"1\" class=\"dataframe\">\n",
       "  <thead>\n",
       "    <tr style=\"text-align: right;\">\n",
       "      <th></th>\n",
       "      <th>00</th>\n",
       "      <th>000</th>\n",
       "      <th>00pm</th>\n",
       "      <th>10</th>\n",
       "      <th>100</th>\n",
       "      <th>1000</th>\n",
       "      <th>11</th>\n",
       "      <th>112</th>\n",
       "      <th>12</th>\n",
       "      <th>120</th>\n",
       "      <th>...</th>\n",
       "      <th>قوت</th>\n",
       "      <th>لا</th>\n",
       "      <th>لانه</th>\n",
       "      <th>لم</th>\n",
       "      <th>مدن</th>\n",
       "      <th>ولان</th>\n",
       "      <th>يجد</th>\n",
       "      <th>يعد</th>\n",
       "      <th>يومه</th>\n",
       "      <th>兰小欢</th>\n",
       "    </tr>\n",
       "  </thead>\n",
       "  <tbody>\n",
       "    <tr>\n",
       "      <th>0</th>\n",
       "      <td>0</td>\n",
       "      <td>0</td>\n",
       "      <td>0</td>\n",
       "      <td>0</td>\n",
       "      <td>0</td>\n",
       "      <td>0</td>\n",
       "      <td>0</td>\n",
       "      <td>0</td>\n",
       "      <td>0</td>\n",
       "      <td>0</td>\n",
       "      <td>...</td>\n",
       "      <td>0</td>\n",
       "      <td>0</td>\n",
       "      <td>0</td>\n",
       "      <td>0</td>\n",
       "      <td>0</td>\n",
       "      <td>0</td>\n",
       "      <td>0</td>\n",
       "      <td>0</td>\n",
       "      <td>0</td>\n",
       "      <td>0</td>\n",
       "    </tr>\n",
       "    <tr>\n",
       "      <th>1</th>\n",
       "      <td>0</td>\n",
       "      <td>0</td>\n",
       "      <td>0</td>\n",
       "      <td>0</td>\n",
       "      <td>0</td>\n",
       "      <td>0</td>\n",
       "      <td>0</td>\n",
       "      <td>0</td>\n",
       "      <td>0</td>\n",
       "      <td>0</td>\n",
       "      <td>...</td>\n",
       "      <td>0</td>\n",
       "      <td>0</td>\n",
       "      <td>0</td>\n",
       "      <td>0</td>\n",
       "      <td>0</td>\n",
       "      <td>0</td>\n",
       "      <td>0</td>\n",
       "      <td>0</td>\n",
       "      <td>0</td>\n",
       "      <td>0</td>\n",
       "    </tr>\n",
       "    <tr>\n",
       "      <th>2</th>\n",
       "      <td>0</td>\n",
       "      <td>0</td>\n",
       "      <td>0</td>\n",
       "      <td>0</td>\n",
       "      <td>0</td>\n",
       "      <td>0</td>\n",
       "      <td>0</td>\n",
       "      <td>0</td>\n",
       "      <td>0</td>\n",
       "      <td>0</td>\n",
       "      <td>...</td>\n",
       "      <td>0</td>\n",
       "      <td>0</td>\n",
       "      <td>0</td>\n",
       "      <td>0</td>\n",
       "      <td>0</td>\n",
       "      <td>0</td>\n",
       "      <td>0</td>\n",
       "      <td>0</td>\n",
       "      <td>0</td>\n",
       "      <td>0</td>\n",
       "    </tr>\n",
       "    <tr>\n",
       "      <th>3</th>\n",
       "      <td>0</td>\n",
       "      <td>0</td>\n",
       "      <td>0</td>\n",
       "      <td>0</td>\n",
       "      <td>0</td>\n",
       "      <td>0</td>\n",
       "      <td>0</td>\n",
       "      <td>0</td>\n",
       "      <td>0</td>\n",
       "      <td>0</td>\n",
       "      <td>...</td>\n",
       "      <td>0</td>\n",
       "      <td>0</td>\n",
       "      <td>0</td>\n",
       "      <td>0</td>\n",
       "      <td>0</td>\n",
       "      <td>0</td>\n",
       "      <td>0</td>\n",
       "      <td>0</td>\n",
       "      <td>0</td>\n",
       "      <td>0</td>\n",
       "    </tr>\n",
       "    <tr>\n",
       "      <th>4</th>\n",
       "      <td>0</td>\n",
       "      <td>0</td>\n",
       "      <td>0</td>\n",
       "      <td>0</td>\n",
       "      <td>0</td>\n",
       "      <td>0</td>\n",
       "      <td>0</td>\n",
       "      <td>0</td>\n",
       "      <td>0</td>\n",
       "      <td>0</td>\n",
       "      <td>...</td>\n",
       "      <td>0</td>\n",
       "      <td>0</td>\n",
       "      <td>0</td>\n",
       "      <td>0</td>\n",
       "      <td>0</td>\n",
       "      <td>0</td>\n",
       "      <td>0</td>\n",
       "      <td>0</td>\n",
       "      <td>0</td>\n",
       "      <td>0</td>\n",
       "    </tr>\n",
       "    <tr>\n",
       "      <th>...</th>\n",
       "      <td>...</td>\n",
       "      <td>...</td>\n",
       "      <td>...</td>\n",
       "      <td>...</td>\n",
       "      <td>...</td>\n",
       "      <td>...</td>\n",
       "      <td>...</td>\n",
       "      <td>...</td>\n",
       "      <td>...</td>\n",
       "      <td>...</td>\n",
       "      <td>...</td>\n",
       "      <td>...</td>\n",
       "      <td>...</td>\n",
       "      <td>...</td>\n",
       "      <td>...</td>\n",
       "      <td>...</td>\n",
       "      <td>...</td>\n",
       "      <td>...</td>\n",
       "      <td>...</td>\n",
       "      <td>...</td>\n",
       "      <td>...</td>\n",
       "    </tr>\n",
       "    <tr>\n",
       "      <th>2107</th>\n",
       "      <td>0</td>\n",
       "      <td>0</td>\n",
       "      <td>0</td>\n",
       "      <td>0</td>\n",
       "      <td>0</td>\n",
       "      <td>0</td>\n",
       "      <td>0</td>\n",
       "      <td>0</td>\n",
       "      <td>0</td>\n",
       "      <td>0</td>\n",
       "      <td>...</td>\n",
       "      <td>0</td>\n",
       "      <td>0</td>\n",
       "      <td>0</td>\n",
       "      <td>0</td>\n",
       "      <td>0</td>\n",
       "      <td>0</td>\n",
       "      <td>0</td>\n",
       "      <td>0</td>\n",
       "      <td>0</td>\n",
       "      <td>0</td>\n",
       "    </tr>\n",
       "    <tr>\n",
       "      <th>2108</th>\n",
       "      <td>0</td>\n",
       "      <td>0</td>\n",
       "      <td>0</td>\n",
       "      <td>0</td>\n",
       "      <td>0</td>\n",
       "      <td>0</td>\n",
       "      <td>0</td>\n",
       "      <td>0</td>\n",
       "      <td>0</td>\n",
       "      <td>0</td>\n",
       "      <td>...</td>\n",
       "      <td>0</td>\n",
       "      <td>0</td>\n",
       "      <td>0</td>\n",
       "      <td>0</td>\n",
       "      <td>0</td>\n",
       "      <td>0</td>\n",
       "      <td>0</td>\n",
       "      <td>0</td>\n",
       "      <td>0</td>\n",
       "      <td>0</td>\n",
       "    </tr>\n",
       "    <tr>\n",
       "      <th>2109</th>\n",
       "      <td>0</td>\n",
       "      <td>0</td>\n",
       "      <td>0</td>\n",
       "      <td>0</td>\n",
       "      <td>0</td>\n",
       "      <td>0</td>\n",
       "      <td>0</td>\n",
       "      <td>0</td>\n",
       "      <td>0</td>\n",
       "      <td>0</td>\n",
       "      <td>...</td>\n",
       "      <td>0</td>\n",
       "      <td>0</td>\n",
       "      <td>0</td>\n",
       "      <td>0</td>\n",
       "      <td>0</td>\n",
       "      <td>0</td>\n",
       "      <td>0</td>\n",
       "      <td>0</td>\n",
       "      <td>0</td>\n",
       "      <td>0</td>\n",
       "    </tr>\n",
       "    <tr>\n",
       "      <th>2110</th>\n",
       "      <td>0</td>\n",
       "      <td>0</td>\n",
       "      <td>0</td>\n",
       "      <td>0</td>\n",
       "      <td>0</td>\n",
       "      <td>0</td>\n",
       "      <td>0</td>\n",
       "      <td>0</td>\n",
       "      <td>0</td>\n",
       "      <td>0</td>\n",
       "      <td>...</td>\n",
       "      <td>0</td>\n",
       "      <td>0</td>\n",
       "      <td>0</td>\n",
       "      <td>0</td>\n",
       "      <td>0</td>\n",
       "      <td>0</td>\n",
       "      <td>0</td>\n",
       "      <td>0</td>\n",
       "      <td>0</td>\n",
       "      <td>0</td>\n",
       "    </tr>\n",
       "    <tr>\n",
       "      <th>2111</th>\n",
       "      <td>0</td>\n",
       "      <td>0</td>\n",
       "      <td>0</td>\n",
       "      <td>0</td>\n",
       "      <td>0</td>\n",
       "      <td>0</td>\n",
       "      <td>0</td>\n",
       "      <td>0</td>\n",
       "      <td>0</td>\n",
       "      <td>0</td>\n",
       "      <td>...</td>\n",
       "      <td>0</td>\n",
       "      <td>0</td>\n",
       "      <td>0</td>\n",
       "      <td>0</td>\n",
       "      <td>0</td>\n",
       "      <td>0</td>\n",
       "      <td>0</td>\n",
       "      <td>0</td>\n",
       "      <td>0</td>\n",
       "      <td>0</td>\n",
       "    </tr>\n",
       "  </tbody>\n",
       "</table>\n",
       "<p>2112 rows × 9877 columns</p>\n",
       "</div>"
      ],
      "text/plain": [
       "      00  000  00pm  10  100  1000  11  112  12  120  ...  قوت  لا  لانه  لم  \\\n",
       "0      0    0     0   0    0     0   0    0   0    0  ...    0   0     0   0   \n",
       "1      0    0     0   0    0     0   0    0   0    0  ...    0   0     0   0   \n",
       "2      0    0     0   0    0     0   0    0   0    0  ...    0   0     0   0   \n",
       "3      0    0     0   0    0     0   0    0   0    0  ...    0   0     0   0   \n",
       "4      0    0     0   0    0     0   0    0   0    0  ...    0   0     0   0   \n",
       "...   ..  ...   ...  ..  ...   ...  ..  ...  ..  ...  ...  ...  ..   ...  ..   \n",
       "2107   0    0     0   0    0     0   0    0   0    0  ...    0   0     0   0   \n",
       "2108   0    0     0   0    0     0   0    0   0    0  ...    0   0     0   0   \n",
       "2109   0    0     0   0    0     0   0    0   0    0  ...    0   0     0   0   \n",
       "2110   0    0     0   0    0     0   0    0   0    0  ...    0   0     0   0   \n",
       "2111   0    0     0   0    0     0   0    0   0    0  ...    0   0     0   0   \n",
       "\n",
       "      مدن  ولان  يجد  يعد  يومه  兰小欢  \n",
       "0       0     0    0    0     0    0  \n",
       "1       0     0    0    0     0    0  \n",
       "2       0     0    0    0     0    0  \n",
       "3       0     0    0    0     0    0  \n",
       "4       0     0    0    0     0    0  \n",
       "...   ...   ...  ...  ...   ...  ...  \n",
       "2107    0     0    0    0     0    0  \n",
       "2108    0     0    0    0     0    0  \n",
       "2109    0     0    0    0     0    0  \n",
       "2110    0     0    0    0     0    0  \n",
       "2111    0     0    0    0     0    0  \n",
       "\n",
       "[2112 rows x 9877 columns]"
      ]
     },
     "execution_count": 12,
     "metadata": {},
     "output_type": "execute_result"
    }
   ],
   "source": [
    "#Sacamos las palabras propias del corpus\n",
    "vocab = cv.get_feature_names_out()\n",
    "\n",
    "#Mostramos los vectores de\n",
    "pd.DataFrame(np.round(cv_matrix, 2), columns=vocab)"
   ]
  },
  {
   "cell_type": "code",
   "execution_count": 13,
   "metadata": {
    "colab": {
     "base_uri": "https://localhost:8080/",
     "height": 35
    },
    "executionInfo": {
     "elapsed": 530,
     "status": "ok",
     "timestamp": 1698997264263,
     "user": {
      "displayName": "Pablo Martín Viñuelas",
      "userId": "03315396031906300120"
     },
     "user_tz": -60
    },
    "id": "rgsVnTZOYPYH",
    "outputId": "82f39097-fae6-4adb-e894-2ee1ca4ef24f",
    "tags": []
   },
   "outputs": [
    {
     "data": {
      "text/plain": [
       "'de'"
      ]
     },
     "execution_count": 13,
     "metadata": {},
     "output_type": "execute_result"
    }
   ],
   "source": [
    "#Vamos a ver la palabra que aparece en más ocasiones.\n",
    "#Sumamos todas las filas y comprobamos que palabra aparece mas en total\n",
    "\n",
    "vocab[np.sum(cv_matrix,  axis=0).argmax()]"
   ]
  },
  {
   "cell_type": "markdown",
   "metadata": {
    "id": "dPQpfvEiBhQ3"
   },
   "source": [
    "La palabra que más aparece es 'de', esto tiene sentido ya que no hemos eliminado las palabras genéricas del idioma. Vamos a ello."
   ]
  },
  {
   "cell_type": "code",
   "execution_count": 14,
   "metadata": {
    "colab": {
     "base_uri": "https://localhost:8080/"
    },
    "executionInfo": {
     "elapsed": 1010,
     "status": "ok",
     "timestamp": 1698997267646,
     "user": {
      "displayName": "Pablo Martín Viñuelas",
      "userId": "03315396031906300120"
     },
     "user_tz": -60
    },
    "id": "gJwdQSgPYPYH",
    "outputId": "db70c92c-b0af-4eba-fb93-96bfa20ed08e",
    "tags": []
   },
   "outputs": [
    {
     "name": "stderr",
     "output_type": "stream",
     "text": [
      "[nltk_data] Downloading package stopwords to\n",
      "[nltk_data]     /Users/alejandrogomezgomez/nltk_data...\n",
      "[nltk_data]   Package stopwords is already up-to-date!\n"
     ]
    }
   ],
   "source": [
    "#Vamos a modificar la función normalize_document para que retire\n",
    "# las \"stopwords\"\n",
    "import nltk\n",
    "nltk.download('stopwords')\n",
    "\n",
    "def normalize_document(doc, stopwords=nltk.corpus.stopwords.words('spanish')):\n",
    "\n",
    "    #remove html tags (Los textos tienen etiquetas html que hacen la tokenizacion mas dificil)\n",
    "    doc = re.sub(r'<[^>]+>','', doc)\n",
    "    #remove withespaces and break lines\n",
    "    doc = ' '.join(doc.strip().split())\n",
    "    #remove special characters\n",
    "    doc = doc.lower()\n",
    "    # tokenize document\n",
    "    tokens = nltk.WordPunctTokenizer().tokenize(doc)\n",
    "    # filter stopwords out of document\n",
    "    filtered_tokens = [token for token in tokens if token not in stopwords]\n",
    "    # re-create document from filtered tokens\n",
    "    doc = ' '.join(filtered_tokens)\n",
    "\n",
    "    return doc\n",
    "\n",
    "normalize_corpus = np.vectorize(normalize_document)"
   ]
  },
  {
   "cell_type": "code",
   "execution_count": 15,
   "metadata": {
    "colab": {
     "base_uri": "https://localhost:8080/",
     "height": 35
    },
    "executionInfo": {
     "elapsed": 461,
     "status": "ok",
     "timestamp": 1698997269740,
     "user": {
      "displayName": "Pablo Martín Viñuelas",
      "userId": "03315396031906300120"
     },
     "user_tz": -60
    },
    "id": "WgM2eHGzYPYI",
    "outputId": "caca3684-b6eb-4be7-d365-b005c3039e70",
    "tags": []
   },
   "outputs": [
    {
     "data": {
      "text/plain": [
       "'cada'"
      ]
     },
     "execution_count": 15,
     "metadata": {},
     "output_type": "execute_result"
    }
   ],
   "source": [
    "#Calculamos de nuevo la palabra que aparece mas veces\n",
    "norm_corpus = normalize_corpus(train_corpus)\n",
    "\n",
    "cv_matrix = cv.fit_transform(norm_corpus)\n",
    "\n",
    "vocab = cv.get_feature_names_out()\n",
    "vocab[np.sum(cv_matrix,  axis=0).argmax()]"
   ]
  },
  {
   "cell_type": "markdown",
   "metadata": {
    "id": "qvscbVZfB1rr"
   },
   "source": [
    "Vemos que ahora la palabra que más se repite es 'cada'. Una vez que hemos procesado los datos y hemos eliminado las palabras o símbolos que nos nos interesan, vamos a proceder a aplicar otras representaciones vectoriales."
   ]
  },
  {
   "cell_type": "code",
   "execution_count": 16,
   "metadata": {
    "executionInfo": {
     "elapsed": 670,
     "status": "ok",
     "timestamp": 1698997272251,
     "user": {
      "displayName": "Pablo Martín Viñuelas",
      "userId": "03315396031906300120"
     },
     "user_tz": -60
    },
    "id": "uRqsgTLbIj2V"
   },
   "outputs": [],
   "source": [
    "#Antes de continuar vamos a aplicar lo que acabamos de hacer al resto de grupos de palabras\n",
    "#con los que estamos trabajando.\n",
    "train_corpus = normalize_corpus(train_corpus)\n",
    "test_corpus = normalize_corpus(test_corpus)"
   ]
  },
  {
   "cell_type": "markdown",
   "metadata": {
    "id": "zk0afvMo7zp8"
   },
   "source": [
    "# Representación con TDF-ID"
   ]
  },
  {
   "cell_type": "markdown",
   "metadata": {
    "id": "1xn1_d4D76CZ"
   },
   "source": [
    "En este caso contamos el número de veces que una palabra aparece en un texto, dividido entre el logaritmo del porcentaje del documentos del corpus que contienen dicho término."
   ]
  },
  {
   "cell_type": "code",
   "execution_count": 17,
   "metadata": {
    "colab": {
     "base_uri": "https://localhost:8080/",
     "height": 424
    },
    "executionInfo": {
     "elapsed": 300,
     "status": "ok",
     "timestamp": 1698997275622,
     "user": {
      "displayName": "Pablo Martín Viñuelas",
      "userId": "03315396031906300120"
     },
     "user_tz": -60
    },
    "id": "VnxIeqE8YPYI",
    "outputId": "755f7d07-a66c-4d52-cc58-f58579157de8",
    "tags": []
   },
   "outputs": [
    {
     "data": {
      "text/html": [
       "<div>\n",
       "<style scoped>\n",
       "    .dataframe tbody tr th:only-of-type {\n",
       "        vertical-align: middle;\n",
       "    }\n",
       "\n",
       "    .dataframe tbody tr th {\n",
       "        vertical-align: top;\n",
       "    }\n",
       "\n",
       "    .dataframe thead th {\n",
       "        text-align: right;\n",
       "    }\n",
       "</style>\n",
       "<table border=\"1\" class=\"dataframe\">\n",
       "  <thead>\n",
       "    <tr style=\"text-align: right;\">\n",
       "      <th></th>\n",
       "      <th>00</th>\n",
       "      <th>000</th>\n",
       "      <th>00pm</th>\n",
       "      <th>10</th>\n",
       "      <th>100</th>\n",
       "      <th>1000</th>\n",
       "      <th>11</th>\n",
       "      <th>112</th>\n",
       "      <th>12</th>\n",
       "      <th>120</th>\n",
       "      <th>...</th>\n",
       "      <th>قوت</th>\n",
       "      <th>لا</th>\n",
       "      <th>لانه</th>\n",
       "      <th>لم</th>\n",
       "      <th>مدن</th>\n",
       "      <th>ولان</th>\n",
       "      <th>يجد</th>\n",
       "      <th>يعد</th>\n",
       "      <th>يومه</th>\n",
       "      <th>兰小欢</th>\n",
       "    </tr>\n",
       "  </thead>\n",
       "  <tbody>\n",
       "    <tr>\n",
       "      <th>0</th>\n",
       "      <td>0.0</td>\n",
       "      <td>0.0</td>\n",
       "      <td>0.0</td>\n",
       "      <td>0.0</td>\n",
       "      <td>0.0</td>\n",
       "      <td>0.0</td>\n",
       "      <td>0.0</td>\n",
       "      <td>0.0</td>\n",
       "      <td>0.0</td>\n",
       "      <td>0.0</td>\n",
       "      <td>...</td>\n",
       "      <td>0.0</td>\n",
       "      <td>0.0</td>\n",
       "      <td>0.0</td>\n",
       "      <td>0.0</td>\n",
       "      <td>0.0</td>\n",
       "      <td>0.0</td>\n",
       "      <td>0.0</td>\n",
       "      <td>0.0</td>\n",
       "      <td>0.0</td>\n",
       "      <td>0.0</td>\n",
       "    </tr>\n",
       "    <tr>\n",
       "      <th>1</th>\n",
       "      <td>0.0</td>\n",
       "      <td>0.0</td>\n",
       "      <td>0.0</td>\n",
       "      <td>0.0</td>\n",
       "      <td>0.0</td>\n",
       "      <td>0.0</td>\n",
       "      <td>0.0</td>\n",
       "      <td>0.0</td>\n",
       "      <td>0.0</td>\n",
       "      <td>0.0</td>\n",
       "      <td>...</td>\n",
       "      <td>0.0</td>\n",
       "      <td>0.0</td>\n",
       "      <td>0.0</td>\n",
       "      <td>0.0</td>\n",
       "      <td>0.0</td>\n",
       "      <td>0.0</td>\n",
       "      <td>0.0</td>\n",
       "      <td>0.0</td>\n",
       "      <td>0.0</td>\n",
       "      <td>0.0</td>\n",
       "    </tr>\n",
       "    <tr>\n",
       "      <th>2</th>\n",
       "      <td>0.0</td>\n",
       "      <td>0.0</td>\n",
       "      <td>0.0</td>\n",
       "      <td>0.0</td>\n",
       "      <td>0.0</td>\n",
       "      <td>0.0</td>\n",
       "      <td>0.0</td>\n",
       "      <td>0.0</td>\n",
       "      <td>0.0</td>\n",
       "      <td>0.0</td>\n",
       "      <td>...</td>\n",
       "      <td>0.0</td>\n",
       "      <td>0.0</td>\n",
       "      <td>0.0</td>\n",
       "      <td>0.0</td>\n",
       "      <td>0.0</td>\n",
       "      <td>0.0</td>\n",
       "      <td>0.0</td>\n",
       "      <td>0.0</td>\n",
       "      <td>0.0</td>\n",
       "      <td>0.0</td>\n",
       "    </tr>\n",
       "    <tr>\n",
       "      <th>3</th>\n",
       "      <td>0.0</td>\n",
       "      <td>0.0</td>\n",
       "      <td>0.0</td>\n",
       "      <td>0.0</td>\n",
       "      <td>0.0</td>\n",
       "      <td>0.0</td>\n",
       "      <td>0.0</td>\n",
       "      <td>0.0</td>\n",
       "      <td>0.0</td>\n",
       "      <td>0.0</td>\n",
       "      <td>...</td>\n",
       "      <td>0.0</td>\n",
       "      <td>0.0</td>\n",
       "      <td>0.0</td>\n",
       "      <td>0.0</td>\n",
       "      <td>0.0</td>\n",
       "      <td>0.0</td>\n",
       "      <td>0.0</td>\n",
       "      <td>0.0</td>\n",
       "      <td>0.0</td>\n",
       "      <td>0.0</td>\n",
       "    </tr>\n",
       "    <tr>\n",
       "      <th>4</th>\n",
       "      <td>0.0</td>\n",
       "      <td>0.0</td>\n",
       "      <td>0.0</td>\n",
       "      <td>0.0</td>\n",
       "      <td>0.0</td>\n",
       "      <td>0.0</td>\n",
       "      <td>0.0</td>\n",
       "      <td>0.0</td>\n",
       "      <td>0.0</td>\n",
       "      <td>0.0</td>\n",
       "      <td>...</td>\n",
       "      <td>0.0</td>\n",
       "      <td>0.0</td>\n",
       "      <td>0.0</td>\n",
       "      <td>0.0</td>\n",
       "      <td>0.0</td>\n",
       "      <td>0.0</td>\n",
       "      <td>0.0</td>\n",
       "      <td>0.0</td>\n",
       "      <td>0.0</td>\n",
       "      <td>0.0</td>\n",
       "    </tr>\n",
       "    <tr>\n",
       "      <th>...</th>\n",
       "      <td>...</td>\n",
       "      <td>...</td>\n",
       "      <td>...</td>\n",
       "      <td>...</td>\n",
       "      <td>...</td>\n",
       "      <td>...</td>\n",
       "      <td>...</td>\n",
       "      <td>...</td>\n",
       "      <td>...</td>\n",
       "      <td>...</td>\n",
       "      <td>...</td>\n",
       "      <td>...</td>\n",
       "      <td>...</td>\n",
       "      <td>...</td>\n",
       "      <td>...</td>\n",
       "      <td>...</td>\n",
       "      <td>...</td>\n",
       "      <td>...</td>\n",
       "      <td>...</td>\n",
       "      <td>...</td>\n",
       "      <td>...</td>\n",
       "    </tr>\n",
       "    <tr>\n",
       "      <th>94</th>\n",
       "      <td>0.0</td>\n",
       "      <td>0.0</td>\n",
       "      <td>0.0</td>\n",
       "      <td>0.0</td>\n",
       "      <td>0.0</td>\n",
       "      <td>0.0</td>\n",
       "      <td>0.0</td>\n",
       "      <td>0.0</td>\n",
       "      <td>0.0</td>\n",
       "      <td>0.0</td>\n",
       "      <td>...</td>\n",
       "      <td>0.0</td>\n",
       "      <td>0.0</td>\n",
       "      <td>0.0</td>\n",
       "      <td>0.0</td>\n",
       "      <td>0.0</td>\n",
       "      <td>0.0</td>\n",
       "      <td>0.0</td>\n",
       "      <td>0.0</td>\n",
       "      <td>0.0</td>\n",
       "      <td>0.0</td>\n",
       "    </tr>\n",
       "    <tr>\n",
       "      <th>95</th>\n",
       "      <td>0.0</td>\n",
       "      <td>0.0</td>\n",
       "      <td>0.0</td>\n",
       "      <td>0.0</td>\n",
       "      <td>0.0</td>\n",
       "      <td>0.0</td>\n",
       "      <td>0.0</td>\n",
       "      <td>0.0</td>\n",
       "      <td>0.0</td>\n",
       "      <td>0.0</td>\n",
       "      <td>...</td>\n",
       "      <td>0.0</td>\n",
       "      <td>0.0</td>\n",
       "      <td>0.0</td>\n",
       "      <td>0.0</td>\n",
       "      <td>0.0</td>\n",
       "      <td>0.0</td>\n",
       "      <td>0.0</td>\n",
       "      <td>0.0</td>\n",
       "      <td>0.0</td>\n",
       "      <td>0.0</td>\n",
       "    </tr>\n",
       "    <tr>\n",
       "      <th>96</th>\n",
       "      <td>0.0</td>\n",
       "      <td>0.0</td>\n",
       "      <td>0.0</td>\n",
       "      <td>0.0</td>\n",
       "      <td>0.0</td>\n",
       "      <td>0.0</td>\n",
       "      <td>0.0</td>\n",
       "      <td>0.0</td>\n",
       "      <td>0.0</td>\n",
       "      <td>0.0</td>\n",
       "      <td>...</td>\n",
       "      <td>0.0</td>\n",
       "      <td>0.0</td>\n",
       "      <td>0.0</td>\n",
       "      <td>0.0</td>\n",
       "      <td>0.0</td>\n",
       "      <td>0.0</td>\n",
       "      <td>0.0</td>\n",
       "      <td>0.0</td>\n",
       "      <td>0.0</td>\n",
       "      <td>0.0</td>\n",
       "    </tr>\n",
       "    <tr>\n",
       "      <th>97</th>\n",
       "      <td>0.0</td>\n",
       "      <td>0.0</td>\n",
       "      <td>0.0</td>\n",
       "      <td>0.0</td>\n",
       "      <td>0.0</td>\n",
       "      <td>0.0</td>\n",
       "      <td>0.0</td>\n",
       "      <td>0.0</td>\n",
       "      <td>0.0</td>\n",
       "      <td>0.0</td>\n",
       "      <td>...</td>\n",
       "      <td>0.0</td>\n",
       "      <td>0.0</td>\n",
       "      <td>0.0</td>\n",
       "      <td>0.0</td>\n",
       "      <td>0.0</td>\n",
       "      <td>0.0</td>\n",
       "      <td>0.0</td>\n",
       "      <td>0.0</td>\n",
       "      <td>0.0</td>\n",
       "      <td>0.0</td>\n",
       "    </tr>\n",
       "    <tr>\n",
       "      <th>98</th>\n",
       "      <td>0.0</td>\n",
       "      <td>0.0</td>\n",
       "      <td>0.0</td>\n",
       "      <td>0.0</td>\n",
       "      <td>0.0</td>\n",
       "      <td>0.0</td>\n",
       "      <td>0.0</td>\n",
       "      <td>0.0</td>\n",
       "      <td>0.0</td>\n",
       "      <td>0.0</td>\n",
       "      <td>...</td>\n",
       "      <td>0.0</td>\n",
       "      <td>0.0</td>\n",
       "      <td>0.0</td>\n",
       "      <td>0.0</td>\n",
       "      <td>0.0</td>\n",
       "      <td>0.0</td>\n",
       "      <td>0.0</td>\n",
       "      <td>0.0</td>\n",
       "      <td>0.0</td>\n",
       "      <td>0.0</td>\n",
       "    </tr>\n",
       "  </tbody>\n",
       "</table>\n",
       "<p>99 rows × 9711 columns</p>\n",
       "</div>"
      ],
      "text/plain": [
       "     00  000  00pm   10  100  1000   11  112   12  120  ...  قوت   لا  لانه  \\\n",
       "0   0.0  0.0   0.0  0.0  0.0   0.0  0.0  0.0  0.0  0.0  ...  0.0  0.0   0.0   \n",
       "1   0.0  0.0   0.0  0.0  0.0   0.0  0.0  0.0  0.0  0.0  ...  0.0  0.0   0.0   \n",
       "2   0.0  0.0   0.0  0.0  0.0   0.0  0.0  0.0  0.0  0.0  ...  0.0  0.0   0.0   \n",
       "3   0.0  0.0   0.0  0.0  0.0   0.0  0.0  0.0  0.0  0.0  ...  0.0  0.0   0.0   \n",
       "4   0.0  0.0   0.0  0.0  0.0   0.0  0.0  0.0  0.0  0.0  ...  0.0  0.0   0.0   \n",
       "..  ...  ...   ...  ...  ...   ...  ...  ...  ...  ...  ...  ...  ...   ...   \n",
       "94  0.0  0.0   0.0  0.0  0.0   0.0  0.0  0.0  0.0  0.0  ...  0.0  0.0   0.0   \n",
       "95  0.0  0.0   0.0  0.0  0.0   0.0  0.0  0.0  0.0  0.0  ...  0.0  0.0   0.0   \n",
       "96  0.0  0.0   0.0  0.0  0.0   0.0  0.0  0.0  0.0  0.0  ...  0.0  0.0   0.0   \n",
       "97  0.0  0.0   0.0  0.0  0.0   0.0  0.0  0.0  0.0  0.0  ...  0.0  0.0   0.0   \n",
       "98  0.0  0.0   0.0  0.0  0.0   0.0  0.0  0.0  0.0  0.0  ...  0.0  0.0   0.0   \n",
       "\n",
       "     لم  مدن  ولان  يجد  يعد  يومه  兰小欢  \n",
       "0   0.0  0.0   0.0  0.0  0.0   0.0  0.0  \n",
       "1   0.0  0.0   0.0  0.0  0.0   0.0  0.0  \n",
       "2   0.0  0.0   0.0  0.0  0.0   0.0  0.0  \n",
       "3   0.0  0.0   0.0  0.0  0.0   0.0  0.0  \n",
       "4   0.0  0.0   0.0  0.0  0.0   0.0  0.0  \n",
       "..  ...  ...   ...  ...  ...   ...  ...  \n",
       "94  0.0  0.0   0.0  0.0  0.0   0.0  0.0  \n",
       "95  0.0  0.0   0.0  0.0  0.0   0.0  0.0  \n",
       "96  0.0  0.0   0.0  0.0  0.0   0.0  0.0  \n",
       "97  0.0  0.0   0.0  0.0  0.0   0.0  0.0  \n",
       "98  0.0  0.0   0.0  0.0  0.0   0.0  0.0  \n",
       "\n",
       "[99 rows x 9711 columns]"
      ]
     },
     "execution_count": 17,
     "metadata": {},
     "output_type": "execute_result"
    }
   ],
   "source": [
    "#Utilizamos la función TfidVectorizer de la librería sklearn\n",
    "\n",
    "from sklearn.feature_extraction.text import TfidfVectorizer\n",
    "\n",
    "tv = TfidfVectorizer()\n",
    "tv_matrix = tv.fit_transform(norm_corpus)\n",
    "\n",
    "#Nos quedamos con una pequeña parte para poder mostrarlo\n",
    "\n",
    "partial_tv = tv_matrix[1:100].toarray()\n",
    "\n",
    "vocabtv = tv.get_feature_names_out()\n",
    "\n",
    "pd.DataFrame(np.round(partial_tv, 2), columns=vocabtv)"
   ]
  },
  {
   "cell_type": "code",
   "execution_count": 62,
   "metadata": {
    "colab": {
     "base_uri": "https://localhost:8080/"
    },
    "executionInfo": {
     "elapsed": 2,
     "status": "ok",
     "timestamp": 1698997278810,
     "user": {
      "displayName": "Pablo Martín Viñuelas",
      "userId": "03315396031906300120"
     },
     "user_tz": -60
    },
    "id": "TJGVxKFMYPYJ",
    "outputId": "9c5f04bc-f148-4a05-bd17-cb89803a480e",
    "tags": []
   },
   "outputs": [
    {
     "name": "stdout",
     "output_type": "stream",
     "text": [
      "9711\n"
     ]
    }
   ],
   "source": [
    "#Veamos la longitud de la lista\n",
    "print(len(vocabtv))"
   ]
  },
  {
   "cell_type": "code",
   "execution_count": 63,
   "metadata": {
    "colab": {
     "base_uri": "https://localhost:8080/"
    },
    "executionInfo": {
     "elapsed": 330,
     "status": "ok",
     "timestamp": 1698997323678,
     "user": {
      "displayName": "Pablo Martín Viñuelas",
      "userId": "03315396031906300120"
     },
     "user_tz": -60
    },
    "id": "ybcYFLD4YPYJ",
    "outputId": "9387a9e7-09d2-4d66-ae92-d7307b27bb32",
    "tags": []
   },
   "outputs": [
    {
     "name": "stdout",
     "output_type": "stream",
     "text": [
      "Primeras posiciones: \n",
      "['00' '000' '00pm' '10' '100' '1000' '11' '112' '12' '120' '13' '132' '14'\n",
      " '1400' '143' '1492' '15' '150' '152' '159']\n",
      "Últimas posiciones: \n",
      "['الكبرى' 'ان' 'بمنزلة' 'بوسعه' 'جمعة_الأرض' 'سوريا' 'صار' 'طعام' 'عديدة'\n",
      " 'في' 'قوت' 'لا' 'لانه' 'لم' 'مدن' 'ولان' 'يجد' 'يعد' 'يومه' '兰小欢']\n"
     ]
    }
   ],
   "source": [
    "#Veamos una pequeña porción de las palabras con las que estamos trabajando\n",
    "\n",
    "print(\"Primeras posiciones: \")\n",
    "print(vocabtv[:20])\n",
    "print(\"Últimas posiciones: \")\n",
    "print(vocabtv[-20:])"
   ]
  },
  {
   "cell_type": "code",
   "execution_count": 64,
   "metadata": {
    "colab": {
     "base_uri": "https://localhost:8080/"
    },
    "executionInfo": {
     "elapsed": 4,
     "status": "ok",
     "timestamp": 1698997324678,
     "user": {
      "displayName": "Pablo Martín Viñuelas",
      "userId": "03315396031906300120"
     },
     "user_tz": -60
    },
    "id": "AbrkfDWyYPYK",
    "outputId": "7afd2e64-4fbd-4dd7-a889-8d49d4b03cdc",
    "tags": []
   },
   "outputs": [
    {
     "name": "stdout",
     "output_type": "stream",
     "text": [
      "Por vectorización de bolsa de palabras:\n",
      "cada\n",
      "Por vectorización tdf-idf\n",
      "cada\n"
     ]
    }
   ],
   "source": [
    "#Veamos ahora de nuevo que palabra aparece más, observamos que sigue siendo la misma\n",
    "\n",
    "print(\"Por vectorización de bolsa de palabras:\")\n",
    "print(vocab[np.sum(train_vector_data,  axis=0).argmax()]) #por vectorizacion por bolsa de palabras\n",
    "print(\"Por vectorización tdf-idf\")\n",
    "print(vocabtv[np.sum(tv_matrix,  axis=0).argmax()]) #por vectorizacion tf-idf"
   ]
  },
  {
   "cell_type": "code",
   "execution_count": 22,
   "metadata": {
    "executionInfo": {
     "elapsed": 366,
     "status": "ok",
     "timestamp": 1698997326582,
     "user": {
      "displayName": "Pablo Martín Viñuelas",
      "userId": "03315396031906300120"
     },
     "user_tz": -60
    },
    "id": "hk5TOaTiYPYK"
   },
   "outputs": [],
   "source": [
    "#Vamos a ver los terminos extraidos para los mensajes de antes.\n",
    "\n",
    "import numpy.ma as ma\n",
    "\n",
    "def write_terms (feature_names, data, vector_data, index):\n",
    "    '''\n",
    "    Escribe los términos presentes en un mensaje representado como bolsa de palabras.\n",
    "\n",
    "    - feature_names: terminos usados para vectorizar\n",
    "    - data: lista de mensajes original (si data==None no se muestra el mensaje original)\n",
    "    - vector_data: matriz (dispersa) de mensaje vectorizados\n",
    "    - index: posición del mensaje a mostrar\n",
    "    '''\n",
    "    # máscara para seleccionar sólo el mensaje en posición index\n",
    "    mask = vector_data[index,:]>0\n",
    "\n",
    "    # términos que aparecen en ese mensaje vectorizado\n",
    "    terminos = ma.array(feature_names, mask = ~(mask[0].toarray()))\n",
    "\n",
    "    # mostrar mensaje original\n",
    "    if data is not None:\n",
    "        print('Mensaje', index, ':', data[index])\n",
    "\n",
    "    # mostrar términos que aparecen en el mensaje vectorizado\n",
    "    print('Mensaje', index, 'vectorizado:', terminos.compressed(),'\\n')"
   ]
  },
  {
   "cell_type": "code",
   "execution_count": 65,
   "metadata": {
    "colab": {
     "base_uri": "https://localhost:8080/"
    },
    "executionInfo": {
     "elapsed": 537,
     "status": "ok",
     "timestamp": 1698997329523,
     "user": {
      "displayName": "Pablo Martín Viñuelas",
      "userId": "03315396031906300120"
     },
     "user_tz": -60
    },
    "id": "KEzqYwtEYPYL",
    "outputId": "1a5fb569-2041-43ab-def8-0930e67105e1"
   },
   "outputs": [
    {
     "name": "stdout",
     "output_type": "stream",
     "text": [
      "Mensaje 10 : literatura ciencia ficción explora futuros alternativos avances tecnológicos . autores isaac asimov especulado robótica inteligencia artificial .\n",
      "Mensaje 10 vectorizado: ['alternativos' 'artificial' 'asimov' 'autores' 'avances' 'ciencia'\n",
      " 'especulado' 'explora' 'ficción' 'futuros' 'inteligencia' 'isaac'\n",
      " 'literatura' 'robótica' 'tecnológicos'] \n",
      "\n"
     ]
    }
   ],
   "source": [
    "#Mostramos la vectorización por bolsa de palabras\n",
    "write_terms(vocab, norm_corpus, train_vector_data, 10)"
   ]
  },
  {
   "cell_type": "code",
   "execution_count": 66,
   "metadata": {
    "colab": {
     "base_uri": "https://localhost:8080/"
    },
    "executionInfo": {
     "elapsed": 311,
     "status": "ok",
     "timestamp": 1698997332772,
     "user": {
      "displayName": "Pablo Martín Viñuelas",
      "userId": "03315396031906300120"
     },
     "user_tz": -60
    },
    "id": "frxGl73sYPYL",
    "outputId": "97768ef8-7491-4328-836f-7a90a55673ba"
   },
   "outputs": [
    {
     "name": "stdout",
     "output_type": "stream",
     "text": [
      "Mensaje 10 : literatura ciencia ficción explora futuros alternativos avances tecnológicos . autores isaac asimov especulado robótica inteligencia artificial .\n",
      "Mensaje 10 vectorizado: ['alternativos' 'artificial' 'asimov' 'autores' 'avances' 'ciencia'\n",
      " 'especulado' 'explora' 'ficción' 'futuros' 'inteligencia' 'isaac'\n",
      " 'literatura' 'robótica' 'tecnológicos'] \n",
      "\n"
     ]
    }
   ],
   "source": [
    "#Mostramos la vectorización tf-idf\n",
    "write_terms(vocabtv, norm_corpus, tv_matrix, 10)"
   ]
  },
  {
   "cell_type": "markdown",
   "metadata": {
    "id": "u26GdvioGFeK"
   },
   "source": [
    "Vemos que hemos conseguido en ambos casos un conjunto de palabras seleccionadas muy cuidado, son palabras que en sí mismas tienen significado y nos son útiles para discriminar mejor los temas o el tono del mensaje."
   ]
  },
  {
   "cell_type": "markdown",
   "metadata": {
    "id": "_PddZo1cGpIH"
   },
   "source": [
    "# Entrenando los modelos de aprendizaje automático"
   ]
  },
  {
   "cell_type": "markdown",
   "metadata": {
    "id": "SUs20n5EGv_9"
   },
   "source": [
    "## Árboles de decisión."
   ]
  },
  {
   "cell_type": "code",
   "execution_count": 67,
   "metadata": {
    "executionInfo": {
     "elapsed": 309,
     "status": "ok",
     "timestamp": 1698997390012,
     "user": {
      "displayName": "Pablo Martín Viñuelas",
      "userId": "03315396031906300120"
     },
     "user_tz": -60
    },
    "id": "NDqcZKk9YPYN"
   },
   "outputs": [],
   "source": [
    "#Definimos esta función para estudiar mejor los resultados\n",
    "def print_top20_features_in_trees(vectorizer, clf):\n",
    "    \"\"\"Prints features with the highest coefficient values\"\"\"\n",
    "    feature_names = vectorizer.get_feature_names_out()\n",
    "\n",
    "    top20 = np.argsort(clf.feature_importances_)[-20:]\n",
    "    reversed_top = top20[::-1]\n",
    "    print(\"Top 20 features in the tree\\n\")\n",
    "    print(\"%s\" % ( \" / \".join(feature_names[j] for j in reversed_top)))\n",
    "\n",
    "\n",
    "from sklearn.metrics import classification_report, confusion_matrix\n",
    "import seaborn as sn\n",
    "\n",
    "def debug_print(predictions, target, target_names):\n",
    "    print(classification_report(target, predictions, target_names=target_names))\n",
    "    conf_matrix = confusion_matrix(target, predictions)\n",
    "    conf_matrix_df = pd.DataFrame(conf_matrix, index=target_names, columns=target_names)\n",
    "\n",
    "    plt.figure(figsize=(15, 10))\n",
    "    sn.heatmap(conf_matrix_df, annot=True, vmin=0, vmax=conf_matrix.max(), fmt='d', cmap=\"YlGnBu\")\n",
    "    plt.yticks(rotation=0)\n",
    "    plt.xticks(rotation=90)\n",
    "\n",
    "  #Función que vamos a utilizar posteriormente para encontrar aquellos valores que no concuerdon con los resultados del test.\n",
    "def get_wrong_predictions(predictions, target, data):\n",
    "    wrong = (predictions != target)\n",
    "    return data[wrong], target[wrong]"
   ]
  },
  {
   "cell_type": "code",
   "execution_count": 68,
   "metadata": {
    "colab": {
     "base_uri": "https://localhost:8080/"
    },
    "executionInfo": {
     "elapsed": 274,
     "status": "ok",
     "timestamp": 1698997391444,
     "user": {
      "displayName": "Pablo Martín Viñuelas",
      "userId": "03315396031906300120"
     },
     "user_tz": -60
    },
    "id": "-mqZH2KyYPYM",
    "outputId": "09aa6818-fc72-423b-c08d-d7b599375716"
   },
   "outputs": [
    {
     "name": "stdout",
     "output_type": "stream",
     "text": [
      "Árbol, porcentaje de aciertos en entrenamiento: 1.0\n",
      "Árbol, porcentaje de aciertos en test: 0.7727272727272727\n"
     ]
    }
   ],
   "source": [
    "from sklearn import tree\n",
    "\n",
    "# Empezamos con la bolsa de palabras\n",
    "cv_matrix_train = cv.fit_transform(train_corpus)\n",
    "cv_matrix_test = cv.transform(test_corpus)\n",
    "\n",
    "# Creamos el clasificador con los valores por defecto\n",
    "tree_classifier = tree.DecisionTreeClassifier()\n",
    "tree_classifier.fit(cv_matrix_train, source_train)\n",
    "\n",
    "\n",
    "tree_train_predictions = tree_classifier.predict(cv_matrix_train)\n",
    "tree_test_predictions = tree_classifier.predict(cv_matrix_test)\n",
    "\n",
    "print(\"Árbol, porcentaje de aciertos en entrenamiento:\", np.mean(tree_train_predictions == source_train))\n",
    "print(\"Árbol, porcentaje de aciertos en test:\", np.mean(tree_test_predictions == source_test))"
   ]
  },
  {
   "cell_type": "code",
   "execution_count": 69,
   "metadata": {
    "colab": {
     "base_uri": "https://localhost:8080/",
     "height": 1000
    },
    "executionInfo": {
     "elapsed": 375,
     "status": "ok",
     "timestamp": 1698997392946,
     "user": {
      "displayName": "Pablo Martín Viñuelas",
      "userId": "03315396031906300120"
     },
     "user_tz": -60
    },
    "id": "mXGF6LAgYPYN",
    "outputId": "fa04eb57-a0bc-41ed-f0a2-995d6f8335c5"
   },
   "outputs": [
    {
     "name": "stdout",
     "output_type": "stream",
     "text": [
      "              precision    recall  f1-score   support\n",
      "\n",
      "      Humano       0.79      0.85      0.81        13\n",
      "          IA       0.75      0.67      0.71         9\n",
      "\n",
      "    accuracy                           0.77        22\n",
      "   macro avg       0.77      0.76      0.76        22\n",
      "weighted avg       0.77      0.77      0.77        22\n",
      "\n"
     ]
    },
    {
     "data": {
      "image/png": "[encoded data removed]",
      "text/plain": [
       "<Figure size 1500x1000 with 2 Axes>"
      ]
     },
     "metadata": {},
     "output_type": "display_data"
    }
   ],
   "source": [
    "%matplotlib inline\n",
    "debug_print(tree_test_predictions, source_test, ['Humano', 'IA'])"
   ]
  },
  {
   "cell_type": "code",
   "execution_count": 70,
   "metadata": {
    "colab": {
     "base_uri": "https://localhost:8080/"
    },
    "executionInfo": {
     "elapsed": 2,
     "status": "ok",
     "timestamp": 1698997394168,
     "user": {
      "displayName": "Pablo Martín Viñuelas",
      "userId": "03315396031906300120"
     },
     "user_tz": -60
    },
    "id": "WilXv9nDJNoh",
    "outputId": "d226891c-8a5c-4cb5-84ee-9297a3b78063"
   },
   "outputs": [
    {
     "name": "stdout",
     "output_type": "stream",
     "text": [
      "Se esperaba:  IA  y se predijo:  Humano  para:\n",
      "  Por el momento, ni Facebook ni Instagram tiene una política que prohíba el desarrollo de herramientas para acceder a los datos del usuario a efectos de vigilancia, según ACLU.\n",
      "\n",
      "\n",
      "Se esperaba:  Humano  y se predijo:  IA  para:\n",
      "  La cafetería en la esquina de la calle era un lugar de encuentro para los habitantes del barrio. Las conversaciones y risas llenaban el ambiente con calidez.\n"
     ]
    }
   ],
   "source": [
    "original_values = ['Humano', 'IA']\n",
    "\n",
    "#Vamos a sacar algunas predicciones en las que nuestro modelo se ha equivocado.\n",
    "d, t = get_wrong_predictions(tree_test_predictions, source_test, sentence_test)\n",
    "\n",
    "d1, d0 = d[t =='Humano'], d[t=='IA']\n",
    "\n",
    "if(len(d1)>0): print(\"Se esperaba: \", original_values[1], \" y se predijo: \", original_values[0], \" para:\\n \", d1[d1.index[0]])\n",
    "print(\"\\n\")\n",
    "if(len(d0)>0): print(\"Se esperaba: \", original_values[0], \" y se predijo: \", original_values[1], \" para:\\n \", d0[d0.index[0]])"
   ]
  },
  {
   "cell_type": "code",
   "execution_count": 71,
   "metadata": {
    "colab": {
     "base_uri": "https://localhost:8080/"
    },
    "executionInfo": {
     "elapsed": 356,
     "status": "ok",
     "timestamp": 1698997396305,
     "user": {
      "displayName": "Pablo Martín Viñuelas",
      "userId": "03315396031906300120"
     },
     "user_tz": -60
    },
    "id": "yeq1WLdIH-T7",
    "outputId": "de7e8638-4897-477e-bd24-6782bed474bc"
   },
   "outputs": [
    {
     "name": "stdout",
     "output_type": "stream",
     "text": [
      "Top 20 features in the tree\n",
      "\n",
      "cada / inteligencia / autor / vida / ciencia / arte / cielo / rincón / secretos / psicología / medicina / música / personajes / sostenible / comprensión / naturaleza / investigación / desafíos / orador / consejos\n"
     ]
    }
   ],
   "source": [
    "#Mostramos las palabras clave en el árbol con bolsa de palabras.\n",
    "print_top20_features_in_trees(cv, tree_classifier)"
   ]
  },
  {
   "cell_type": "code",
   "execution_count": 72,
   "metadata": {
    "colab": {
     "base_uri": "https://localhost:8080/"
    },
    "executionInfo": {
     "elapsed": 844,
     "status": "ok",
     "timestamp": 1698997398228,
     "user": {
      "displayName": "Pablo Martín Viñuelas",
      "userId": "03315396031906300120"
     },
     "user_tz": -60
    },
    "id": "LaNUI_dRm6v8",
    "outputId": "13719319-de1b-4671-fd34-7c87c60d9309"
   },
   "outputs": [
    {
     "name": "stdout",
     "output_type": "stream",
     "text": [
      "Árbol, porcentaje de aciertos en test: 0.7394957983193278\n"
     ]
    }
   ],
   "source": [
    "# Vamos ahora a utilizar el dataset de Accenture para ver como funciona.\n",
    "\n",
    "dfAccenture = pd.read_csv(DATA_ACCENTURE_PATH)\n",
    "\n",
    "test_accenture=np.array(dfAccenture['Frases'])\n",
    "\n",
    "norm_test_corpus_accenture = normalize_corpus(np.array(dfAccenture['Frases']))\n",
    "type_test_accenture = np.array(dfAccenture['Tipo texto'])\n",
    "\n",
    "cv_matrix_test = cv.transform(norm_test_corpus_accenture)\n",
    "tree_test_predictions = tree_classifier.predict(cv_matrix_test)\n",
    "print(\"Árbol, porcentaje de aciertos en test:\", np.mean(tree_test_predictions == type_test_accenture))"
   ]
  },
  {
   "cell_type": "code",
   "execution_count": 73,
   "metadata": {},
   "outputs": [
    {
     "name": "stdout",
     "output_type": "stream",
     "text": [
      "              precision    recall  f1-score   support\n",
      "\n",
      "      Humano       0.86      0.60      0.70        62\n",
      "          IA       0.67      0.89      0.77        57\n",
      "\n",
      "    accuracy                           0.74       119\n",
      "   macro avg       0.77      0.75      0.74       119\n",
      "weighted avg       0.77      0.74      0.73       119\n",
      "\n"
     ]
    },
    {
     "data": {
      "image/png": "[encoded data removed]",
      "text/plain": [
       "<Figure size 1500x1000 with 2 Axes>"
      ]
     },
     "metadata": {},
     "output_type": "display_data"
    }
   ],
   "source": [
    "%matplotlib inline\n",
    "debug_print(tree_test_predictions, type_test_accenture, ['Humano', 'IA'])"
   ]
  },
  {
   "cell_type": "code",
   "execution_count": 74,
   "metadata": {},
   "outputs": [
    {
     "name": "stdout",
     "output_type": "stream",
     "text": [
      "Se esperaba:  IA  y se predijo:  Humano  para:\n",
      "  El campo estaba en un valle rodeado de montañas nevadas. Era muy colorido porque había plantaciones de muchos tipos de flores y, por eso, olía muy bien. A la izquierda del camino que cruzaba este extenso lugar había una cabaña que tenía una chimenea que echaba humo. Al lado de la cabaña había dos caballos que tomaban agua de un pequeño arroyo. No había personas fuera de la casa, pero la puerta estaba abierta.\n",
      "\n",
      "\n",
      "Se esperaba:  Humano  y se predijo:  IA  para:\n",
      "  El último habitante de un pequeño pueblo en el oeste de Estados Unidos era un anciano que había vivido allí durante décadas. La población había disminuido gradualmente a medida que los jóvenes se marchaban en busca de oportunidades en la ciudad. Pero cuando llegó un desconocido con una oferta para comprar la tierra, el anciano se aferró a su hogar y a los recuerdos que contenía. A medida que luchaba contra los intentos de desalojo, comenzó a desentrañar la historia oculta de su pueblo y a entender por qué era tan importante que nunca se rindiera.\n"
     ]
    }
   ],
   "source": [
    "original_values = ['Humano', 'IA']\n",
    "\n",
    "#Vamos a sacar algunas predicciones en las que nuestro modelo se ha equivocado.\n",
    "d, t = get_wrong_predictions(tree_test_predictions, type_test_accenture, test_accenture)\n",
    "\n",
    "d1, d0 = d[t =='Humano'], d[t=='IA']\n",
    "\n",
    "if(len(d1)>0): print(\"Se esperaba: \", original_values[1], \" y se predijo: \", original_values[0], \" para:\\n \", d1[0])\n",
    "print(\"\\n\")\n",
    "if(len(d0)>0): print(\"Se esperaba: \", original_values[0], \" y se predijo: \", original_values[1], \" para:\\n \", d0[0])"
   ]
  },
  {
   "cell_type": "code",
   "execution_count": 75,
   "metadata": {},
   "outputs": [
    {
     "data": {
      "text/plain": [
       "[Text(0.5833333333333334, 0.9, 'x[1357] <= 0.5\\ngini = 0.5\\nsamples = 2112\\nvalue = [1058, 1054]'),\n",
       " Text(0.35714285714285715, 0.7, 'x[5040] <= 0.5\\ngini = 0.493\\nsamples = 1870\\nvalue = [1043, 827]'),\n",
       " Text(0.19047619047619047, 0.5, 'x[1012] <= 0.5\\ngini = 0.488\\nsamples = 1801\\nvalue = [1041, 760]'),\n",
       " Text(0.09523809523809523, 0.3, 'x[9409] <= 0.5\\ngini = 0.481\\nsamples = 1742\\nvalue = [1039, 703]'),\n",
       " Text(0.047619047619047616, 0.1, '\\n  (...)  \\n'),\n",
       " Text(0.14285714285714285, 0.1, '\\n  (...)  \\n'),\n",
       " Text(0.2857142857142857, 0.3, 'x[5962] <= 0.5\\ngini = 0.065\\nsamples = 59\\nvalue = [2, 57]'),\n",
       " Text(0.23809523809523808, 0.1, '\\n  (...)  \\n'),\n",
       " Text(0.3333333333333333, 0.1, '\\n  (...)  \\n'),\n",
       " Text(0.5238095238095238, 0.5, 'x[4846] <= 0.5\\ngini = 0.056\\nsamples = 69\\nvalue = [2, 67]'),\n",
       " Text(0.47619047619047616, 0.3, 'x[8864] <= 0.5\\ngini = 0.029\\nsamples = 68\\nvalue = [1, 67]'),\n",
       " Text(0.42857142857142855, 0.1, '\\n  (...)  \\n'),\n",
       " Text(0.5238095238095238, 0.1, '\\n  (...)  \\n'),\n",
       " Text(0.5714285714285714, 0.3, 'gini = 0.0\\nsamples = 1\\nvalue = [1, 0]'),\n",
       " Text(0.8095238095238095, 0.7, 'x[9393] <= 0.5\\ngini = 0.116\\nsamples = 242\\nvalue = [15, 227]'),\n",
       " Text(0.7142857142857143, 0.5, 'x[6912] <= 0.5\\ngini = 0.067\\nsamples = 232\\nvalue = [8, 224]'),\n",
       " Text(0.6666666666666666, 0.3, 'x[3499] <= 0.5\\ngini = 0.051\\nsamples = 230\\nvalue = [6, 224]'),\n",
       " Text(0.6190476190476191, 0.1, '\\n  (...)  \\n'),\n",
       " Text(0.7142857142857143, 0.1, '\\n  (...)  \\n'),\n",
       " Text(0.7619047619047619, 0.3, 'gini = 0.0\\nsamples = 2\\nvalue = [2, 0]'),\n",
       " Text(0.9047619047619048, 0.5, 'x[3566] <= 0.5\\ngini = 0.42\\nsamples = 10\\nvalue = [7, 3]'),\n",
       " Text(0.8571428571428571, 0.3, 'x[1035] <= 0.5\\ngini = 0.219\\nsamples = 8\\nvalue = [7, 1]'),\n",
       " Text(0.8095238095238095, 0.1, '\\n  (...)  \\n'),\n",
       " Text(0.9047619047619048, 0.1, '\\n  (...)  \\n'),\n",
       " Text(0.9523809523809523, 0.3, 'gini = 0.0\\nsamples = 2\\nvalue = [0, 2]')]"
      ]
     },
     "execution_count": 75,
     "metadata": {},
     "output_type": "execute_result"
    },
    {
     "data": {
      "image/png": "[encoded data removed]",
      "text/plain": [
       "<Figure size 640x480 with 1 Axes>"
      ]
     },
     "metadata": {},
     "output_type": "display_data"
    }
   ],
   "source": [
    "#Utilizamos esta función para que nos muestre los primeros niveles del árbol con \n",
    "#el que estamos trabajando.\n",
    "tree.plot_tree(tree_classifier, max_depth=3)"
   ]
  },
  {
   "cell_type": "markdown",
   "metadata": {
    "id": "wBpmLP9-HSsk"
   },
   "source": [
    "Ahora vamos a probar de nuevo con árboles, pero en este caso vamos a utilizar la representación TF_IDF"
   ]
  },
  {
   "cell_type": "code",
   "execution_count": 34,
   "metadata": {
    "colab": {
     "base_uri": "https://localhost:8080/"
    },
    "executionInfo": {
     "elapsed": 615,
     "status": "ok",
     "timestamp": 1698997406701,
     "user": {
      "displayName": "Pablo Martín Viñuelas",
      "userId": "03315396031906300120"
     },
     "user_tz": -60
    },
    "id": "P0Ly0YEQYPYO",
    "outputId": "e23f6bce-6978-40cb-fab4-e9d2466ba736"
   },
   "outputs": [
    {
     "name": "stdout",
     "output_type": "stream",
     "text": [
      "Árbol, porcentaje de aciertos en entrenamiento: 1.0\n",
      "Árbol, porcentaje de aciertos en test: 0.9545454545454546\n"
     ]
    }
   ],
   "source": [
    "# Usamos la vectorizacion tf-idf, seguimos el mismo esquema.\n",
    "tv_matrix_train = tv.fit_transform(train_corpus)\n",
    "tv_matrix_test = tv.transform(test_corpus)\n",
    "\n",
    "# Creamos el clasificador con los valores por defecto\n",
    "tree_classifier = tree.DecisionTreeClassifier()\n",
    "tree_classifier.fit(tv_matrix_train, source_train)\n",
    "\n",
    "tree_train_predictions = tree_classifier.predict(tv_matrix_train)\n",
    "tree_test_predictions = tree_classifier.predict(tv_matrix_test)\n",
    "\n",
    "print(\"Árbol, porcentaje de aciertos en entrenamiento:\", np.mean(tree_train_predictions == source_train))\n",
    "print(\"Árbol, porcentaje de aciertos en test:\", np.mean(tree_test_predictions == source_test))"
   ]
  },
  {
   "cell_type": "code",
   "execution_count": 35,
   "metadata": {
    "colab": {
     "base_uri": "https://localhost:8080/",
     "height": 1000
    },
    "executionInfo": {
     "elapsed": 826,
     "status": "ok",
     "timestamp": 1698997420327,
     "user": {
      "displayName": "Pablo Martín Viñuelas",
      "userId": "03315396031906300120"
     },
     "user_tz": -60
    },
    "id": "ScqRkPNdIC8r",
    "outputId": "2e6bfcec-2c62-4bb0-9d42-778fcdc0684e"
   },
   "outputs": [
    {
     "name": "stdout",
     "output_type": "stream",
     "text": [
      "              precision    recall  f1-score   support\n",
      "\n",
      "      Humano       0.93      1.00      0.96        13\n",
      "          IA       1.00      0.89      0.94         9\n",
      "\n",
      "    accuracy                           0.95        22\n",
      "   macro avg       0.96      0.94      0.95        22\n",
      "weighted avg       0.96      0.95      0.95        22\n",
      "\n"
     ]
    },
    {
     "data": {
      "image/png": "[encoded data removed]",
      "text/plain": [
       "<Figure size 1500x1000 with 2 Axes>"
      ]
     },
     "metadata": {},
     "output_type": "display_data"
    }
   ],
   "source": [
    "%matplotlib inline\n",
    "debug_print(tree_test_predictions, source_test, ['Humano', 'IA'])"
   ]
  },
  {
   "cell_type": "markdown",
   "metadata": {
    "id": "dbICASXTJtoj"
   },
   "source": [
    "Observamos que los resultados obtenidos son prácticamente iguales."
   ]
  },
  {
   "cell_type": "code",
   "execution_count": 36,
   "metadata": {
    "colab": {
     "base_uri": "https://localhost:8080/"
    },
    "executionInfo": {
     "elapsed": 3,
     "status": "ok",
     "timestamp": 1698997422865,
     "user": {
      "displayName": "Pablo Martín Viñuelas",
      "userId": "03315396031906300120"
     },
     "user_tz": -60
    },
    "id": "BcOPUvMXJ6s6",
    "outputId": "6a9726eb-2c77-41c3-dae1-cb1c38e3d399"
   },
   "outputs": [
    {
     "name": "stdout",
     "output_type": "stream",
     "text": [
      "\n",
      "\n",
      "Se esperaba:  Humano  y se predijo:  IA  para:\n",
      "  La cafetería en la esquina de la calle era un lugar de encuentro para los habitantes del barrio. Las conversaciones y risas llenaban el ambiente con calidez.\n"
     ]
    }
   ],
   "source": [
    "d, t = get_wrong_predictions(tree_test_predictions, source_test, sentence_test)\n",
    "\n",
    "d1, d0 = d[t=='Humano'], d[t=='IA']\n",
    "\n",
    "if(len(d1)>0): print(\"Se esperaba: \", original_values[1], \" y se predijo: \", original_values[0], \" para:\\n \", d1[d1.index[0]])\n",
    "print(\"\\n\")\n",
    "if(len(d0)>0): print(\"Se esperaba: \", original_values[0], \" y se predijo: \", original_values[1], \" para:\\n \", d0[d0.index[0]])\n",
    "\n"
   ]
  },
  {
   "cell_type": "code",
   "execution_count": 37,
   "metadata": {
    "colab": {
     "base_uri": "https://localhost:8080/"
    },
    "executionInfo": {
     "elapsed": 311,
     "status": "ok",
     "timestamp": 1698997436195,
     "user": {
      "displayName": "Pablo Martín Viñuelas",
      "userId": "03315396031906300120"
     },
     "user_tz": -60
    },
    "id": "3PQUFWfA_Nbe",
    "outputId": "a20eca37-76a0-47ee-ccac-89266a8e742b"
   },
   "outputs": [
    {
     "name": "stdout",
     "output_type": "stream",
     "text": [
      "Top 20 features in the tree\n",
      "\n",
      "cada / inteligencia / autor / vida / ciencia / rincón / cielo / arte / secretos / música / desafíos / medicina / psicología / sostenible / personajes / viaje / comprensión / mundo / naturaleza / investigación\n"
     ]
    }
   ],
   "source": [
    "#Mostramos las palabras clave en el árbol con tdf-id.\n",
    "print_top20_features_in_trees(tv, tree_classifier)"
   ]
  },
  {
   "cell_type": "markdown",
   "metadata": {
    "id": "y8L8GNAR_nC0"
   },
   "source": [
    "Observamos que en ambos aparecen palabras repetidas, pero difieren en orden de importancia a medida que descendemos en el árbol."
   ]
  },
  {
   "cell_type": "code",
   "execution_count": 38,
   "metadata": {
    "colab": {
     "base_uri": "https://localhost:8080/"
    },
    "executionInfo": {
     "elapsed": 526,
     "status": "ok",
     "timestamp": 1698997438868,
     "user": {
      "displayName": "Pablo Martín Viñuelas",
      "userId": "03315396031906300120"
     },
     "user_tz": -60
    },
    "id": "dSTS2JD0oK5h",
    "outputId": "3bccaaaa-c608-455e-e680-fbc55079f3e2"
   },
   "outputs": [
    {
     "name": "stdout",
     "output_type": "stream",
     "text": [
      "Árbol, porcentaje de aciertos en test: 0.7478991596638656\n"
     ]
    }
   ],
   "source": [
    "# Vamos ahora a utilizar el dataset de accenture para ver como funciona.\n",
    "\n",
    "tv_matrix_test = tv.transform(norm_test_corpus_accenture)\n",
    "tree_test_predictions = tree_classifier.predict(tv_matrix_test)\n",
    "print(\"Árbol, porcentaje de aciertos en test:\", np.mean(tree_test_predictions == type_test_accenture))"
   ]
  },
  {
   "cell_type": "code",
   "execution_count": 39,
   "metadata": {},
   "outputs": [
    {
     "name": "stdout",
     "output_type": "stream",
     "text": [
      "              precision    recall  f1-score   support\n",
      "\n",
      "      Humano       0.81      0.68      0.74        62\n",
      "          IA       0.70      0.82      0.76        57\n",
      "\n",
      "    accuracy                           0.75       119\n",
      "   macro avg       0.75      0.75      0.75       119\n",
      "weighted avg       0.76      0.75      0.75       119\n",
      "\n"
     ]
    },
    {
     "data": {
      "image/png": "[encoded data removed]",
      "text/plain": [
       "<Figure size 1500x1000 with 2 Axes>"
      ]
     },
     "metadata": {},
     "output_type": "display_data"
    }
   ],
   "source": [
    "%matplotlib inline\n",
    "debug_print(tree_test_predictions, type_test_accenture, ['Humano', 'IA'])"
   ]
  },
  {
   "cell_type": "code",
   "execution_count": 40,
   "metadata": {},
   "outputs": [
    {
     "name": "stdout",
     "output_type": "stream",
     "text": [
      "Se esperaba:  IA  y se predijo:  Humano  para:\n",
      "  El cazador había perdido todas sus herramientas de caza, pero se dio cuenta de que no las necesitaba porque podía alimentarse de las frutas que crecían en los árboles. Se puso muy contento con esta determinación y decidió que, cuando llegara a la ciudad, les diría a sus amigos que no practicaría esta actividad nunca más, porque había aprendido a respetar a la naturaleza.\n",
      "\n",
      "\n",
      "Se esperaba:  Humano  y se predijo:  IA  para:\n",
      "  En una ciudad futurista donde la tecnología había avanzado más allá de la imaginación, un joven científico trabajaba incansablemente en su laboratorio subterráneo. Había descubierto una forma revolucionaria de viajar en el tiempo, pero su invención era peligrosa y planteaba preguntas éticas fundamentales. Mientras los poderes gubernamentales y corporativos intentaban apoderarse de su descubrimiento, él se debatía entre la promesa de cambiar el pasado y el temor de alterar el curso de la historia de la humanidad de manera irreversible.\n"
     ]
    }
   ],
   "source": [
    "original_values = ['Humano', 'IA']\n",
    "\n",
    "#Vamos a sacar algunas predicciones en las que nuestro modelo se ha equivocado.\n",
    "d, t = get_wrong_predictions(tree_test_predictions, type_test_accenture, test_accenture)\n",
    "\n",
    "d1, d0 = d[t =='Humano'], d[t=='IA']\n",
    "\n",
    "if(len(d1)>0): print(\"Se esperaba: \", original_values[1], \" y se predijo: \", original_values[0], \" para:\\n \", d1[0])\n",
    "print(\"\\n\")\n",
    "if(len(d0)>0): print(\"Se esperaba: \", original_values[0], \" y se predijo: \", original_values[1], \" para:\\n \", d0[0])"
   ]
  },
  {
   "cell_type": "code",
   "execution_count": 41,
   "metadata": {},
   "outputs": [
    {
     "data": {
      "text/plain": [
       "[Text(0.5833333333333334, 0.9, 'x[1357] <= 0.039\\ngini = 0.5\\nsamples = 2112\\nvalue = [1058, 1054]'),\n",
       " Text(0.35714285714285715, 0.7, 'x[5040] <= 0.077\\ngini = 0.493\\nsamples = 1870\\nvalue = [1043, 827]'),\n",
       " Text(0.19047619047619047, 0.5, 'x[1012] <= 0.075\\ngini = 0.488\\nsamples = 1801\\nvalue = [1041, 760]'),\n",
       " Text(0.09523809523809523, 0.3, 'x[9409] <= 0.144\\ngini = 0.481\\nsamples = 1742\\nvalue = [1039, 703]'),\n",
       " Text(0.047619047619047616, 0.1, '\\n  (...)  \\n'),\n",
       " Text(0.14285714285714285, 0.1, '\\n  (...)  \\n'),\n",
       " Text(0.2857142857142857, 0.3, 'x[1603] <= 0.148\\ngini = 0.065\\nsamples = 59\\nvalue = [2, 57]'),\n",
       " Text(0.23809523809523808, 0.1, '\\n  (...)  \\n'),\n",
       " Text(0.3333333333333333, 0.1, '\\n  (...)  \\n'),\n",
       " Text(0.5238095238095238, 0.5, 'x[7973] <= 0.14\\ngini = 0.056\\nsamples = 69\\nvalue = [2, 67]'),\n",
       " Text(0.47619047619047616, 0.3, 'x[6408] <= 0.142\\ngini = 0.029\\nsamples = 68\\nvalue = [1, 67]'),\n",
       " Text(0.42857142857142855, 0.1, '\\n  (...)  \\n'),\n",
       " Text(0.5238095238095238, 0.1, '\\n  (...)  \\n'),\n",
       " Text(0.5714285714285714, 0.3, 'gini = 0.0\\nsamples = 1\\nvalue = [1, 0]'),\n",
       " Text(0.8095238095238095, 0.7, 'x[9393] <= 0.093\\ngini = 0.116\\nsamples = 242\\nvalue = [15, 227]'),\n",
       " Text(0.7142857142857143, 0.5, 'x[6150] <= 0.101\\ngini = 0.067\\nsamples = 232\\nvalue = [8, 224]'),\n",
       " Text(0.6666666666666666, 0.3, 'x[7481] <= 0.072\\ngini = 0.051\\nsamples = 230\\nvalue = [6, 224]'),\n",
       " Text(0.6190476190476191, 0.1, '\\n  (...)  \\n'),\n",
       " Text(0.7142857142857143, 0.1, '\\n  (...)  \\n'),\n",
       " Text(0.7619047619047619, 0.3, 'gini = 0.0\\nsamples = 2\\nvalue = [2, 0]'),\n",
       " Text(0.9047619047619048, 0.5, 'x[3566] <= 0.111\\ngini = 0.42\\nsamples = 10\\nvalue = [7, 3]'),\n",
       " Text(0.8571428571428571, 0.3, 'x[8093] <= 0.151\\ngini = 0.219\\nsamples = 8\\nvalue = [7, 1]'),\n",
       " Text(0.8095238095238095, 0.1, '\\n  (...)  \\n'),\n",
       " Text(0.9047619047619048, 0.1, '\\n  (...)  \\n'),\n",
       " Text(0.9523809523809523, 0.3, 'gini = 0.0\\nsamples = 2\\nvalue = [0, 2]')]"
      ]
     },
     "execution_count": 41,
     "metadata": {},
     "output_type": "execute_result"
    },
    {
     "data": {
      "image/png": "[encoded data removed]",
      "text/plain": [
       "<Figure size 640x480 with 1 Axes>"
      ]
     },
     "metadata": {},
     "output_type": "display_data"
    }
   ],
   "source": [
    "#Utilizamos esta función para que nos muestre los primeros niveles del árbol con \n",
    "#el que estamos trabajando.\n",
    "tree.plot_tree(tree_classifier, max_depth=3)"
   ]
  },
  {
   "cell_type": "markdown",
   "metadata": {
    "id": "gLuiab21MWeW"
   },
   "source": [
    "## Naive Bayes"
   ]
  },
  {
   "cell_type": "code",
   "execution_count": 42,
   "metadata": {
    "executionInfo": {
     "elapsed": 2,
     "status": "ok",
     "timestamp": 1698997441326,
     "user": {
      "displayName": "Pablo Martín Viñuelas",
      "userId": "03315396031906300120"
     },
     "user_tz": -60
    },
    "id": "CeJb2fltMOw9"
   },
   "outputs": [],
   "source": [
    "def print_top20_features_per_class_in_NB(vectorizer, clf, class_labels):\n",
    "    \"\"\"Prints features with the highest coefficient values, per class\"\"\"\n",
    "    feature_names = vectorizer.get_feature_names_out()\n",
    "    print(\"Top 20 features per class\\n\")\n",
    "    for i, class_label in enumerate(class_labels):\n",
    "        top20 = np.argsort(clf.feature_log_prob_[i])[-20:]\n",
    "        reversed_top = top20[::-1]\n",
    "\n",
    "        print(\"%s: %s\" % (class_label,\n",
    "              \" / \".join(feature_names[j] for j in reversed_top)),'\\n')\n",
    "\n",
    "        #Descomentar para ver el índice de los términos en el diccionario\n",
    "        #print(\"%s \" % (\" / \".join(str(j) for j in reversed_top)),'\\n')"
   ]
  },
  {
   "cell_type": "code",
   "execution_count": 43,
   "metadata": {
    "colab": {
     "base_uri": "https://localhost:8080/"
    },
    "executionInfo": {
     "elapsed": 350,
     "status": "ok",
     "timestamp": 1698997736954,
     "user": {
      "displayName": "Pablo Martín Viñuelas",
      "userId": "03315396031906300120"
     },
     "user_tz": -60
    },
    "id": "fBYcOQ6uM3La",
    "outputId": "5a62573e-b676-4ed8-90c6-53949280bb7b"
   },
   "outputs": [
    {
     "name": "stdout",
     "output_type": "stream",
     "text": [
      "Multinomial Naive Bayes, porcentaje de aciertos en entrenamiento: 0.9947916666666666\n",
      "Multinomial Naive Bayes, porcentaje de aciertos en test: 1.0\n"
     ]
    }
   ],
   "source": [
    "from sklearn.naive_bayes import MultinomialNB\n",
    "\n",
    "# Empezamos con la bolsa de palabras\n",
    "\n",
    "mnb_classifier = MultinomialNB()\n",
    "\n",
    "\n",
    "cv_matrix_test = cv.transform(test_corpus)\n",
    "\n",
    "mnb_classifier.fit(cv_matrix_train, source_train)\n",
    "\n",
    "mnb_train_predictions = mnb_classifier.predict(cv_matrix_train)\n",
    "mnb_test_predictions = mnb_classifier.predict(cv_matrix_test)\n",
    "\n",
    "print(\"Multinomial Naive Bayes, porcentaje de aciertos en entrenamiento:\", np.mean(mnb_train_predictions == source_train))\n",
    "print(\"Multinomial Naive Bayes, porcentaje de aciertos en test:\", np.mean(mnb_test_predictions == source_test))"
   ]
  },
  {
   "cell_type": "markdown",
   "metadata": {
    "id": "d26Lw_FpNMXC"
   },
   "source": [
    "Vemos que obtenemos mejores resultados, probablemente porque no hemos sobreaprendido tanto, como ocurría con los árboles."
   ]
  },
  {
   "cell_type": "code",
   "execution_count": 44,
   "metadata": {
    "colab": {
     "base_uri": "https://localhost:8080/"
    },
    "executionInfo": {
     "elapsed": 311,
     "status": "ok",
     "timestamp": 1698997744937,
     "user": {
      "displayName": "Pablo Martín Viñuelas",
      "userId": "03315396031906300120"
     },
     "user_tz": -60
    },
    "id": "Bdg-rGksM5LT",
    "outputId": "4a86242b-1f09-45e6-d73a-83c9922bae96"
   },
   "outputs": [
    {
     "name": "stdout",
     "output_type": "stream",
     "text": [
      "Top 20 features per class\n",
      "\n",
      "Humano: si / gobierno / ser / país / puede / mundo / países / años / vez / así / embargo / año / personas / dos / sido / unidos / gente / cómo / gran / hecho \n",
      "\n",
      "IA: cada / vida / mundo / inteligencia / artificial / historia / autor / arte / tiempo / música / rincón / forma / tecnología / ciencia / investigación / salud / naturaleza / personajes / desafíos / cielo \n",
      "\n"
     ]
    }
   ],
   "source": [
    "print_top20_features_per_class_in_NB(cv, mnb_classifier, ['Humano', 'IA'])"
   ]
  },
  {
   "cell_type": "code",
   "execution_count": 45,
   "metadata": {
    "colab": {
     "base_uri": "https://localhost:8080/",
     "height": 1000
    },
    "executionInfo": {
     "elapsed": 991,
     "status": "ok",
     "timestamp": 1698997747804,
     "user": {
      "displayName": "Pablo Martín Viñuelas",
      "userId": "03315396031906300120"
     },
     "user_tz": -60
    },
    "id": "51f0oiEMNSB7",
    "outputId": "5e53b7bf-14cc-4fb9-f7af-48dbcda84293"
   },
   "outputs": [
    {
     "name": "stdout",
     "output_type": "stream",
     "text": [
      "              precision    recall  f1-score   support\n",
      "\n",
      "      Humano       1.00      1.00      1.00        13\n",
      "          IA       1.00      1.00      1.00         9\n",
      "\n",
      "    accuracy                           1.00        22\n",
      "   macro avg       1.00      1.00      1.00        22\n",
      "weighted avg       1.00      1.00      1.00        22\n",
      "\n"
     ]
    },
    {
     "data": {
      "image/png": "[encoded data removed]",
      "text/plain": [
       "<Figure size 1500x1000 with 2 Axes>"
      ]
     },
     "metadata": {},
     "output_type": "display_data"
    }
   ],
   "source": [
    "%matplotlib inline\n",
    "debug_print(mnb_test_predictions, source_test, ['Humano', 'IA'])"
   ]
  },
  {
   "cell_type": "code",
   "execution_count": 46,
   "metadata": {
    "colab": {
     "base_uri": "https://localhost:8080/"
    },
    "executionInfo": {
     "elapsed": 344,
     "status": "ok",
     "timestamp": 1698997752325,
     "user": {
      "displayName": "Pablo Martín Viñuelas",
      "userId": "03315396031906300120"
     },
     "user_tz": -60
    },
    "id": "85BYzEAeNhRr",
    "outputId": "9f01311f-7f55-48c2-d630-744354228cf8"
   },
   "outputs": [
    {
     "name": "stdout",
     "output_type": "stream",
     "text": [
      "\n",
      "\n"
     ]
    }
   ],
   "source": [
    "d, t = get_wrong_predictions(mnb_test_predictions, source_test, sentence_test)\n",
    "\n",
    "d1, d0 = d[t == 'Humano'], d[t == 'IA']\n",
    "\n",
    "if(len(d1)>0): print(\"Se esperaba: \", original_values[1], \" y se predijo: \", original_values[0], \" para:\\n \", d1[d1.index[0]])\n",
    "print(\"\\n\")\n",
    "if(len(d0)>0): print(\"Se esperaba: \", original_values[0], \" y se predijo: \", original_values[1], \" para:\\n \", d0[d0.index[0]])"
   ]
  },
  {
   "cell_type": "code",
   "execution_count": 47,
   "metadata": {
    "colab": {
     "base_uri": "https://localhost:8080/"
    },
    "executionInfo": {
     "elapsed": 312,
     "status": "ok",
     "timestamp": 1698998015590,
     "user": {
      "displayName": "Pablo Martín Viñuelas",
      "userId": "03315396031906300120"
     },
     "user_tz": -60
    },
    "id": "WzBeY7r0ovtA",
    "outputId": "0988d580-cbb4-4939-a994-1ae07c32fad8"
   },
   "outputs": [
    {
     "name": "stdout",
     "output_type": "stream",
     "text": [
      "Multinomial Naive Bayes, porcentaje de aciertos en test: 0.8739495798319328\n"
     ]
    }
   ],
   "source": [
    "cv_matrix_test = cv.transform(norm_test_corpus_accenture)\n",
    "\n",
    "mnb_test_predictions = mnb_classifier.predict(cv_matrix_test)\n",
    "\n",
    "print(\"Multinomial Naive Bayes, porcentaje de aciertos en test:\", np.mean(mnb_test_predictions == type_test_accenture))"
   ]
  },
  {
   "cell_type": "code",
   "execution_count": 48,
   "metadata": {},
   "outputs": [
    {
     "name": "stdout",
     "output_type": "stream",
     "text": [
      "              precision    recall  f1-score   support\n",
      "\n",
      "      Humano       0.96      0.79      0.87        62\n",
      "          IA       0.81      0.96      0.88        57\n",
      "\n",
      "    accuracy                           0.87       119\n",
      "   macro avg       0.88      0.88      0.87       119\n",
      "weighted avg       0.89      0.87      0.87       119\n",
      "\n"
     ]
    },
    {
     "data": {
      "image/png": "[encoded data removed]",
      "text/plain": [
       "<Figure size 1500x1000 with 2 Axes>"
      ]
     },
     "metadata": {},
     "output_type": "display_data"
    }
   ],
   "source": [
    "%matplotlib inline\n",
    "debug_print(mnb_test_predictions, type_test_accenture, ['Humano', 'IA'])"
   ]
  },
  {
   "cell_type": "code",
   "execution_count": 55,
   "metadata": {
    "colab": {
     "base_uri": "https://localhost:8080/"
    },
    "executionInfo": {
     "elapsed": 515,
     "status": "ok",
     "timestamp": 1698998097922,
     "user": {
      "displayName": "Pablo Martín Viñuelas",
      "userId": "03315396031906300120"
     },
     "user_tz": -60
    },
    "id": "MoBS5IoFNmr2",
    "outputId": "77dc1a55-f231-4d8b-d00d-2a858c63cb0b"
   },
   "outputs": [
    {
     "name": "stdout",
     "output_type": "stream",
     "text": [
      "Multinomial Naive Bayes, porcentaje de aciertos en entrenamiento: 0.9933712121212122\n",
      "Multinomial Naive Bayes, porcentaje de aciertos en test: 1.0\n"
     ]
    }
   ],
   "source": [
    "# Usamos ahora la vectorizacion tf-idf\n",
    "tv_matrix_test = tv.transform(test_corpus)\n",
    "\n",
    "\n",
    "mnb_classifier = MultinomialNB()\n",
    "\n",
    "mnb_classifier.fit(tv_matrix_train, source_train)\n",
    "\n",
    "mnb_train_predictions = mnb_classifier.predict(tv_matrix_train)\n",
    "mnb_test_predictions = mnb_classifier.predict(tv_matrix_test)\n",
    "\n",
    "print(\"Multinomial Naive Bayes, porcentaje de aciertos en entrenamiento:\", np.mean(mnb_train_predictions == source_train))\n",
    "print(\"Multinomial Naive Bayes, porcentaje de aciertos en test:\", np.mean(mnb_test_predictions == source_test))"
   ]
  },
  {
   "cell_type": "code",
   "execution_count": 56,
   "metadata": {
    "colab": {
     "base_uri": "https://localhost:8080/"
    },
    "executionInfo": {
     "elapsed": 308,
     "status": "ok",
     "timestamp": 1698998106010,
     "user": {
      "displayName": "Pablo Martín Viñuelas",
      "userId": "03315396031906300120"
     },
     "user_tz": -60
    },
    "id": "Mt78cN1lOHNA",
    "outputId": "75883e39-b355-41ae-93bb-5b893ab9aeb3"
   },
   "outputs": [
    {
     "name": "stdout",
     "output_type": "stream",
     "text": [
      "Top 20 features per class\n",
      "\n",
      "Humano: gobierno / si / ser / país / países / puede / años / vez / mundo / así / embargo / año / unidos / sido / gente / personas / parte / dos / hecho / internet \n",
      "\n",
      "IA: cada / vida / inteligencia / mundo / artificial / historia / autor / arte / ciencia / tecnología / música / rincón / forma / tiempo / salud / investigación / enfermedades / desafíos / impacto / personajes \n",
      "\n"
     ]
    }
   ],
   "source": [
    "print_top20_features_per_class_in_NB(cv, mnb_classifier, ['Humano', 'IA'])"
   ]
  },
  {
   "cell_type": "code",
   "execution_count": 57,
   "metadata": {
    "colab": {
     "base_uri": "https://localhost:8080/",
     "height": 1000
    },
    "executionInfo": {
     "elapsed": 310,
     "status": "ok",
     "timestamp": 1698998107652,
     "user": {
      "displayName": "Pablo Martín Viñuelas",
      "userId": "03315396031906300120"
     },
     "user_tz": -60
    },
    "id": "sI7QhUDxOYya",
    "outputId": "2cc05e15-a4f8-44f8-edb7-9edd971e7d76"
   },
   "outputs": [
    {
     "name": "stdout",
     "output_type": "stream",
     "text": [
      "              precision    recall  f1-score   support\n",
      "\n",
      "      Humano       1.00      1.00      1.00        13\n",
      "          IA       1.00      1.00      1.00         9\n",
      "\n",
      "    accuracy                           1.00        22\n",
      "   macro avg       1.00      1.00      1.00        22\n",
      "weighted avg       1.00      1.00      1.00        22\n",
      "\n"
     ]
    },
    {
     "data": {
      "image/png": "[encoded data removed]",
      "text/plain": [
       "<Figure size 1500x1000 with 2 Axes>"
      ]
     },
     "metadata": {},
     "output_type": "display_data"
    }
   ],
   "source": [
    "%matplotlib inline\n",
    "debug_print(mnb_test_predictions, source_test, ['Humano', 'IA'])"
   ]
  },
  {
   "cell_type": "code",
   "execution_count": 58,
   "metadata": {
    "executionInfo": {
     "elapsed": 6,
     "status": "ok",
     "timestamp": 1698998108882,
     "user": {
      "displayName": "Pablo Martín Viñuelas",
      "userId": "03315396031906300120"
     },
     "user_tz": -60
    },
    "id": "fjF5j1k5ObcN"
   },
   "outputs": [],
   "source": [
    "d, t = get_wrong_predictions(mnb_test_predictions, source_test, sentence_test)\n",
    "\n",
    "d1, d0 = d[t=='Humano'], d[t=='IA']\n",
    "\n",
    "if(len(d1)>0): print(\"Se esperaba: \", original_values[1], \" y se predijo: \", original_values[0], \" para:\\n \", d1[d1.index[0]])\n",
    "if(len(d0)>0): print(\"Se esperaba: \", original_values[0], \" y se predijo: \", original_values[1], \" para:\\n \", d0[d0.index[0]])"
   ]
  },
  {
   "cell_type": "code",
   "execution_count": 59,
   "metadata": {
    "colab": {
     "base_uri": "https://localhost:8080/"
    },
    "executionInfo": {
     "elapsed": 4,
     "status": "ok",
     "timestamp": 1698998153628,
     "user": {
      "displayName": "Pablo Martín Viñuelas",
      "userId": "03315396031906300120"
     },
     "user_tz": -60
    },
    "id": "PW6sT7lQmztQ",
    "outputId": "ea9f918e-0931-483b-bf12-c9cbc9041206"
   },
   "outputs": [
    {
     "name": "stdout",
     "output_type": "stream",
     "text": [
      "Multinomial Naive Bayes, porcentaje de aciertos en test: 0.8739495798319328\n"
     ]
    }
   ],
   "source": [
    "tv_matrix_test = tv.transform(norm_test_corpus_accenture)\n",
    "\n",
    "mnb_test_predictions = mnb_classifier.predict(tv_matrix_test)\n",
    "\n",
    "print(\"Multinomial Naive Bayes, porcentaje de aciertos en test:\", np.mean(mnb_test_predictions == type_test_accenture))"
   ]
  },
  {
   "cell_type": "code",
   "execution_count": 60,
   "metadata": {
    "id": "1PABQ0JnLc9k"
   },
   "outputs": [
    {
     "name": "stdout",
     "output_type": "stream",
     "text": [
      "              precision    recall  f1-score   support\n",
      "\n",
      "      Humano       0.98      0.77      0.86        62\n",
      "          IA       0.80      0.98      0.88        57\n",
      "\n",
      "    accuracy                           0.87       119\n",
      "   macro avg       0.89      0.88      0.87       119\n",
      "weighted avg       0.89      0.87      0.87       119\n",
      "\n"
     ]
    },
    {
     "data": {
      "image/png": "[encoded data removed]",
      "text/plain": [
       "<Figure size 1500x1000 with 2 Axes>"
      ]
     },
     "metadata": {},
     "output_type": "display_data"
    }
   ],
   "source": [
    "%matplotlib inline\n",
    "debug_print(mnb_test_predictions, type_test_accenture, ['Humano', 'IA'])"
   ]
  },
  {
   "cell_type": "code",
   "execution_count": 61,
   "metadata": {},
   "outputs": [
    {
     "name": "stdout",
     "output_type": "stream",
     "text": [
      "Se esperaba:  IA  y se predijo:  Humano  para:\n",
      "  El cazador había perdido todas sus herramientas de caza, pero se dio cuenta de que no las necesitaba porque podía alimentarse de las frutas que crecían en los árboles. Se puso muy contento con esta determinación y decidió que, cuando llegara a la ciudad, les diría a sus amigos que no practicaría esta actividad nunca más, porque había aprendido a respetar a la naturaleza.\n",
      "\n",
      "\n",
      "Se esperaba:  Humano  y se predijo:  IA  para:\n",
      "  En una ciudad futurista donde la tecnología había avanzado más allá de la imaginación, un joven científico trabajaba incansablemente en su laboratorio subterráneo. Había descubierto una forma revolucionaria de viajar en el tiempo, pero su invención era peligrosa y planteaba preguntas éticas fundamentales. Mientras los poderes gubernamentales y corporativos intentaban apoderarse de su descubrimiento, él se debatía entre la promesa de cambiar el pasado y el temor de alterar el curso de la historia de la humanidad de manera irreversible.\n"
     ]
    }
   ],
   "source": [
    "original_values = ['Humano', 'IA']\n",
    "\n",
    "#Vamos a sacar algunas predicciones en las que nuestro modelo se ha equivocado.\n",
    "d, t = get_wrong_predictions(tree_test_predictions, type_test_accenture, test_accenture)\n",
    "\n",
    "d1, d0 = d[t =='Humano'], d[t=='IA']\n",
    "\n",
    "if(len(d1)>0): print(\"Se esperaba: \", original_values[1], \" y se predijo: \", original_values[0], \" para:\\n \", d1[0])\n",
    "print(\"\\n\")\n",
    "if(len(d0)>0): print(\"Se esperaba: \", original_values[0], \" y se predijo: \", original_values[1], \" para:\\n \", d0[0])"
   ]
  },
  {
   "cell_type": "code",
   "execution_count": null,
   "metadata": {},
   "outputs": [],
   "source": []
  }
 ],
 "metadata": {
  "colab": {
   "provenance": []
  },
  "kernelspec": {
   "display_name": "Kwant Environment",
   "language": "python",
   "name": "work"
  },
  "language_info": {
   "codemirror_mode": {
    "name": "ipython",
    "version": 3
   },
   "file_extension": ".py",
   "mimetype": "text/x-python",
   "name": "python",
   "nbconvert_exporter": "python",
   "pygments_lexer": "ipython3",
   "version": "3.8.5"
  }
 },
 "nbformat": 4,
 "nbformat_minor": 4
}
