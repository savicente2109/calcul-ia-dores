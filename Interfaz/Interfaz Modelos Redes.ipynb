{
 "cells": [
  {
   "cell_type": "code",
   "execution_count": 20,
   "id": "cdf3d37f-a757-4cb8-9919-2c424ee33d0f",
   "metadata": {},
   "outputs": [],
   "source": [
    "TRAIN_PATH = '../Datos/TRAIN.csv'\n",
    "REDNEURONAL_PATH='../Red Neuronal/modelo_red_neuronal.keras'\n",
    "TOKENIZER_PATH='../Red Neuronal/tokenizer.json'"
   ]
  },
  {
   "cell_type": "code",
   "execution_count": 21,
   "id": "8a6edad2-b3e5-4557-9caf-9d9dc96f612c",
   "metadata": {
    "id": "8a6edad2-b3e5-4557-9caf-9d9dc96f612c"
   },
   "outputs": [],
   "source": [
    "import pandas as pd\n",
    "import numpy as np\n",
    "import re"
   ]
  },
  {
   "cell_type": "markdown",
   "id": "6ef5caa5-fbca-41f1-8a14-826d511d7b6d",
   "metadata": {},
   "source": [
    "## Carga de Datos y limpieza"
   ]
  },
  {
   "cell_type": "code",
   "execution_count": null,
   "id": "5937cbb3-aea3-4450-b940-a79cf15b57cd",
   "metadata": {},
   "outputs": [],
   "source": [
    "df=pd.read_csv(TRAIN_PATH)"
   ]
  },
  {
   "cell_type": "code",
   "execution_count": null,
   "id": "2dc85cc5-7b1d-4dd0-9ecf-28f7ea14cd10",
   "metadata": {
    "id": "2dc85cc5-7b1d-4dd0-9ecf-28f7ea14cd10",
    "outputId": "b1423b07-f286-4c90-acc1-c76fdb1e9201"
   },
   "outputs": [],
   "source": [
    "#Vamos a modificar la función normalize_document para que retire\n",
    "# las \"stopwords\"\n",
    "import nltk\n",
    "nltk.download('stopwords')\n",
    "def normalize_document(doc, stopwords=nltk.corpus.stopwords.words('spanish')):\n",
    "\n",
    "    #remove html tags (Los textos tienen etiquetas html que hacen la tokenizacion mas dificil)\n",
    "    doc = re.sub(r'<[^>]+>','', doc)\n",
    "    #remove withespaces and break lines\n",
    "    doc = ' '.join(doc.strip().split())\n",
    "    #remove special characters\n",
    "    #doc = re.sub(r'[^a-zA-Z\\s]', '', doc, re.I|re.A)\n",
    "    doc = doc.lower()\n",
    "    # tokenize document\n",
    "    tokens = nltk.WordPunctTokenizer().tokenize(doc)\n",
    "    # filter stopwords out of document\n",
    "    filtered_tokens = [token for token in tokens if token not in stopwords]\n",
    "    # re-create document from filtered tokens\n",
    "    doc = ' '.join(filtered_tokens)\n",
    "\n",
    "    return doc\n",
    "\n",
    "normalize_corpus = np.vectorize(normalize_document)"
   ]
  },
  {
   "cell_type": "code",
   "execution_count": 3,
   "id": "990aec5a-e220-4138-9a41-8cd36a1d9f86",
   "metadata": {
    "id": "990aec5a-e220-4138-9a41-8cd36a1d9f86"
   },
   "outputs": [],
   "source": [
    "RANDOM_STATE = 1234\n",
    "\n",
    "from sklearn.model_selection import train_test_split\n",
    "\n",
    "frase_train, frase_test, tipo_train, tipo_test = train_test_split(df['Frases'], df['Tipo texto'], test_size=0.01, random_state=RANDOM_STATE)\n",
    "\n",
    "\n",
    "#primero normalizamos los datos de entrenamiento\n",
    "norm_train_corpus = normalize_corpus(np.array(frase_train))\n",
    "type_train = normalize_corpus(np.array(tipo_train))"
   ]
  },
  {
   "cell_type": "markdown",
   "id": "4396929f-60c6-4e5e-a34d-a5190ecbdc09",
   "metadata": {},
   "source": [
    "## Árbol de decisión"
   ]
  },
  {
   "cell_type": "code",
   "execution_count": 15,
   "id": "f37b5692-e7db-4143-9ed6-33f4d5ec2b68",
   "metadata": {
    "id": "f37b5692-e7db-4143-9ed6-33f4d5ec2b68",
    "outputId": "b131c43f-1597-4d97-c57e-4d4af25014b6"
   },
   "outputs": [
    {
     "data": {
      "text/html": [
       "<style>#sk-container-id-7 {color: black;}#sk-container-id-7 pre{padding: 0;}#sk-container-id-7 div.sk-toggleable {background-color: white;}#sk-container-id-7 label.sk-toggleable__label {cursor: pointer;display: block;width: 100%;margin-bottom: 0;padding: 0.3em;box-sizing: border-box;text-align: center;}#sk-container-id-7 label.sk-toggleable__label-arrow:before {content: \"▸\";float: left;margin-right: 0.25em;color: #696969;}#sk-container-id-7 label.sk-toggleable__label-arrow:hover:before {color: black;}#sk-container-id-7 div.sk-estimator:hover label.sk-toggleable__label-arrow:before {color: black;}#sk-container-id-7 div.sk-toggleable__content {max-height: 0;max-width: 0;overflow: hidden;text-align: left;background-color: #f0f8ff;}#sk-container-id-7 div.sk-toggleable__content pre {margin: 0.2em;color: black;border-radius: 0.25em;background-color: #f0f8ff;}#sk-container-id-7 input.sk-toggleable__control:checked~div.sk-toggleable__content {max-height: 200px;max-width: 100%;overflow: auto;}#sk-container-id-7 input.sk-toggleable__control:checked~label.sk-toggleable__label-arrow:before {content: \"▾\";}#sk-container-id-7 div.sk-estimator input.sk-toggleable__control:checked~label.sk-toggleable__label {background-color: #d4ebff;}#sk-container-id-7 div.sk-label input.sk-toggleable__control:checked~label.sk-toggleable__label {background-color: #d4ebff;}#sk-container-id-7 input.sk-hidden--visually {border: 0;clip: rect(1px 1px 1px 1px);clip: rect(1px, 1px, 1px, 1px);height: 1px;margin: -1px;overflow: hidden;padding: 0;position: absolute;width: 1px;}#sk-container-id-7 div.sk-estimator {font-family: monospace;background-color: #f0f8ff;border: 1px dotted black;border-radius: 0.25em;box-sizing: border-box;margin-bottom: 0.5em;}#sk-container-id-7 div.sk-estimator:hover {background-color: #d4ebff;}#sk-container-id-7 div.sk-parallel-item::after {content: \"\";width: 100%;border-bottom: 1px solid gray;flex-grow: 1;}#sk-container-id-7 div.sk-label:hover label.sk-toggleable__label {background-color: #d4ebff;}#sk-container-id-7 div.sk-serial::before {content: \"\";position: absolute;border-left: 1px solid gray;box-sizing: border-box;top: 0;bottom: 0;left: 50%;z-index: 0;}#sk-container-id-7 div.sk-serial {display: flex;flex-direction: column;align-items: center;background-color: white;padding-right: 0.2em;padding-left: 0.2em;position: relative;}#sk-container-id-7 div.sk-item {position: relative;z-index: 1;}#sk-container-id-7 div.sk-parallel {display: flex;align-items: stretch;justify-content: center;background-color: white;position: relative;}#sk-container-id-7 div.sk-item::before, #sk-container-id-7 div.sk-parallel-item::before {content: \"\";position: absolute;border-left: 1px solid gray;box-sizing: border-box;top: 0;bottom: 0;left: 50%;z-index: -1;}#sk-container-id-7 div.sk-parallel-item {display: flex;flex-direction: column;z-index: 1;position: relative;background-color: white;}#sk-container-id-7 div.sk-parallel-item:first-child::after {align-self: flex-end;width: 50%;}#sk-container-id-7 div.sk-parallel-item:last-child::after {align-self: flex-start;width: 50%;}#sk-container-id-7 div.sk-parallel-item:only-child::after {width: 0;}#sk-container-id-7 div.sk-dashed-wrapped {border: 1px dashed gray;margin: 0 0.4em 0.5em 0.4em;box-sizing: border-box;padding-bottom: 0.4em;background-color: white;}#sk-container-id-7 div.sk-label label {font-family: monospace;font-weight: bold;display: inline-block;line-height: 1.2em;}#sk-container-id-7 div.sk-label-container {text-align: center;}#sk-container-id-7 div.sk-container {/* jupyter's `normalize.less` sets `[hidden] { display: none; }` but bootstrap.min.css set `[hidden] { display: none !important; }` so we also need the `!important` here to be able to override the default hidden behavior on the sphinx rendered scikit-learn.org. See: https://github.com/scikit-learn/scikit-learn/issues/21755 */display: inline-block !important;position: relative;}#sk-container-id-7 div.sk-text-repr-fallback {display: none;}</style><div id=\"sk-container-id-7\" class=\"sk-top-container\"><div class=\"sk-text-repr-fallback\"><pre>DecisionTreeClassifier()</pre><b>In a Jupyter environment, please rerun this cell to show the HTML representation or trust the notebook. <br />On GitHub, the HTML representation is unable to render, please try loading this page with nbviewer.org.</b></div><div class=\"sk-container\" hidden><div class=\"sk-item\"><div class=\"sk-estimator sk-toggleable\"><input class=\"sk-toggleable__control sk-hidden--visually\" id=\"sk-estimator-id-7\" type=\"checkbox\" checked><label for=\"sk-estimator-id-7\" class=\"sk-toggleable__label sk-toggleable__label-arrow\">DecisionTreeClassifier</label><div class=\"sk-toggleable__content\"><pre>DecisionTreeClassifier()</pre></div></div></div></div></div>"
      ],
      "text/plain": [
       "DecisionTreeClassifier()"
      ]
     },
     "execution_count": 15,
     "metadata": {},
     "output_type": "execute_result"
    }
   ],
   "source": [
    "from sklearn import tree\n",
    "import numpy as np\n",
    "from sklearn.feature_extraction.text import CountVectorizer\n",
    "\n",
    "cv = CountVectorizer()\n",
    "\n",
    "# Empezamos con la bolsa de palabras\n",
    "cv_matrix_train = cv.fit_transform(norm_train_corpus)\n",
    "\n",
    "# Creamos el clasificador con los valores por defecto\n",
    "tree_classifier_bolsa = tree.DecisionTreeClassifier()\n",
    "tree_classifier_bolsa.fit(cv_matrix_train, type_train)"
   ]
  },
  {
   "cell_type": "code",
   "execution_count": 16,
   "id": "ed20e621-7e81-41bc-88f9-89085d381fce",
   "metadata": {},
   "outputs": [
    {
     "data": {
      "text/html": [
       "<style>#sk-container-id-8 {color: black;}#sk-container-id-8 pre{padding: 0;}#sk-container-id-8 div.sk-toggleable {background-color: white;}#sk-container-id-8 label.sk-toggleable__label {cursor: pointer;display: block;width: 100%;margin-bottom: 0;padding: 0.3em;box-sizing: border-box;text-align: center;}#sk-container-id-8 label.sk-toggleable__label-arrow:before {content: \"▸\";float: left;margin-right: 0.25em;color: #696969;}#sk-container-id-8 label.sk-toggleable__label-arrow:hover:before {color: black;}#sk-container-id-8 div.sk-estimator:hover label.sk-toggleable__label-arrow:before {color: black;}#sk-container-id-8 div.sk-toggleable__content {max-height: 0;max-width: 0;overflow: hidden;text-align: left;background-color: #f0f8ff;}#sk-container-id-8 div.sk-toggleable__content pre {margin: 0.2em;color: black;border-radius: 0.25em;background-color: #f0f8ff;}#sk-container-id-8 input.sk-toggleable__control:checked~div.sk-toggleable__content {max-height: 200px;max-width: 100%;overflow: auto;}#sk-container-id-8 input.sk-toggleable__control:checked~label.sk-toggleable__label-arrow:before {content: \"▾\";}#sk-container-id-8 div.sk-estimator input.sk-toggleable__control:checked~label.sk-toggleable__label {background-color: #d4ebff;}#sk-container-id-8 div.sk-label input.sk-toggleable__control:checked~label.sk-toggleable__label {background-color: #d4ebff;}#sk-container-id-8 input.sk-hidden--visually {border: 0;clip: rect(1px 1px 1px 1px);clip: rect(1px, 1px, 1px, 1px);height: 1px;margin: -1px;overflow: hidden;padding: 0;position: absolute;width: 1px;}#sk-container-id-8 div.sk-estimator {font-family: monospace;background-color: #f0f8ff;border: 1px dotted black;border-radius: 0.25em;box-sizing: border-box;margin-bottom: 0.5em;}#sk-container-id-8 div.sk-estimator:hover {background-color: #d4ebff;}#sk-container-id-8 div.sk-parallel-item::after {content: \"\";width: 100%;border-bottom: 1px solid gray;flex-grow: 1;}#sk-container-id-8 div.sk-label:hover label.sk-toggleable__label {background-color: #d4ebff;}#sk-container-id-8 div.sk-serial::before {content: \"\";position: absolute;border-left: 1px solid gray;box-sizing: border-box;top: 0;bottom: 0;left: 50%;z-index: 0;}#sk-container-id-8 div.sk-serial {display: flex;flex-direction: column;align-items: center;background-color: white;padding-right: 0.2em;padding-left: 0.2em;position: relative;}#sk-container-id-8 div.sk-item {position: relative;z-index: 1;}#sk-container-id-8 div.sk-parallel {display: flex;align-items: stretch;justify-content: center;background-color: white;position: relative;}#sk-container-id-8 div.sk-item::before, #sk-container-id-8 div.sk-parallel-item::before {content: \"\";position: absolute;border-left: 1px solid gray;box-sizing: border-box;top: 0;bottom: 0;left: 50%;z-index: -1;}#sk-container-id-8 div.sk-parallel-item {display: flex;flex-direction: column;z-index: 1;position: relative;background-color: white;}#sk-container-id-8 div.sk-parallel-item:first-child::after {align-self: flex-end;width: 50%;}#sk-container-id-8 div.sk-parallel-item:last-child::after {align-self: flex-start;width: 50%;}#sk-container-id-8 div.sk-parallel-item:only-child::after {width: 0;}#sk-container-id-8 div.sk-dashed-wrapped {border: 1px dashed gray;margin: 0 0.4em 0.5em 0.4em;box-sizing: border-box;padding-bottom: 0.4em;background-color: white;}#sk-container-id-8 div.sk-label label {font-family: monospace;font-weight: bold;display: inline-block;line-height: 1.2em;}#sk-container-id-8 div.sk-label-container {text-align: center;}#sk-container-id-8 div.sk-container {/* jupyter's `normalize.less` sets `[hidden] { display: none; }` but bootstrap.min.css set `[hidden] { display: none !important; }` so we also need the `!important` here to be able to override the default hidden behavior on the sphinx rendered scikit-learn.org. See: https://github.com/scikit-learn/scikit-learn/issues/21755 */display: inline-block !important;position: relative;}#sk-container-id-8 div.sk-text-repr-fallback {display: none;}</style><div id=\"sk-container-id-8\" class=\"sk-top-container\"><div class=\"sk-text-repr-fallback\"><pre>DecisionTreeClassifier()</pre><b>In a Jupyter environment, please rerun this cell to show the HTML representation or trust the notebook. <br />On GitHub, the HTML representation is unable to render, please try loading this page with nbviewer.org.</b></div><div class=\"sk-container\" hidden><div class=\"sk-item\"><div class=\"sk-estimator sk-toggleable\"><input class=\"sk-toggleable__control sk-hidden--visually\" id=\"sk-estimator-id-8\" type=\"checkbox\" checked><label for=\"sk-estimator-id-8\" class=\"sk-toggleable__label sk-toggleable__label-arrow\">DecisionTreeClassifier</label><div class=\"sk-toggleable__content\"><pre>DecisionTreeClassifier()</pre></div></div></div></div></div>"
      ],
      "text/plain": [
       "DecisionTreeClassifier()"
      ]
     },
     "execution_count": 16,
     "metadata": {},
     "output_type": "execute_result"
    }
   ],
   "source": [
    "# Representación TF-IDF\n",
    "from sklearn.feature_extraction.text import TfidfVectorizer\n",
    "\n",
    "tv = TfidfVectorizer()\n",
    "\n",
    "tv_matrix_train = tv.fit_transform(norm_train_corpus)\n",
    "\n",
    "# Creamos el clasificador con los valores por defecto\n",
    "tree_classifier_TFIDF = tree.DecisionTreeClassifier()\n",
    "tree_classifier_TFIDF.fit(tv_matrix_train, type_train)\n",
    "\n"
   ]
  },
  {
   "cell_type": "markdown",
   "id": "bf9e0008-95c4-4753-9e09-b127b8d04fc6",
   "metadata": {},
   "source": [
    "## Naïve Bayes method"
   ]
  },
  {
   "cell_type": "code",
   "execution_count": 17,
   "id": "30dbcb06-ce00-4ce8-b78e-f96292375fde",
   "metadata": {},
   "outputs": [
    {
     "data": {
      "text/html": [
       "<style>#sk-container-id-9 {color: black;}#sk-container-id-9 pre{padding: 0;}#sk-container-id-9 div.sk-toggleable {background-color: white;}#sk-container-id-9 label.sk-toggleable__label {cursor: pointer;display: block;width: 100%;margin-bottom: 0;padding: 0.3em;box-sizing: border-box;text-align: center;}#sk-container-id-9 label.sk-toggleable__label-arrow:before {content: \"▸\";float: left;margin-right: 0.25em;color: #696969;}#sk-container-id-9 label.sk-toggleable__label-arrow:hover:before {color: black;}#sk-container-id-9 div.sk-estimator:hover label.sk-toggleable__label-arrow:before {color: black;}#sk-container-id-9 div.sk-toggleable__content {max-height: 0;max-width: 0;overflow: hidden;text-align: left;background-color: #f0f8ff;}#sk-container-id-9 div.sk-toggleable__content pre {margin: 0.2em;color: black;border-radius: 0.25em;background-color: #f0f8ff;}#sk-container-id-9 input.sk-toggleable__control:checked~div.sk-toggleable__content {max-height: 200px;max-width: 100%;overflow: auto;}#sk-container-id-9 input.sk-toggleable__control:checked~label.sk-toggleable__label-arrow:before {content: \"▾\";}#sk-container-id-9 div.sk-estimator input.sk-toggleable__control:checked~label.sk-toggleable__label {background-color: #d4ebff;}#sk-container-id-9 div.sk-label input.sk-toggleable__control:checked~label.sk-toggleable__label {background-color: #d4ebff;}#sk-container-id-9 input.sk-hidden--visually {border: 0;clip: rect(1px 1px 1px 1px);clip: rect(1px, 1px, 1px, 1px);height: 1px;margin: -1px;overflow: hidden;padding: 0;position: absolute;width: 1px;}#sk-container-id-9 div.sk-estimator {font-family: monospace;background-color: #f0f8ff;border: 1px dotted black;border-radius: 0.25em;box-sizing: border-box;margin-bottom: 0.5em;}#sk-container-id-9 div.sk-estimator:hover {background-color: #d4ebff;}#sk-container-id-9 div.sk-parallel-item::after {content: \"\";width: 100%;border-bottom: 1px solid gray;flex-grow: 1;}#sk-container-id-9 div.sk-label:hover label.sk-toggleable__label {background-color: #d4ebff;}#sk-container-id-9 div.sk-serial::before {content: \"\";position: absolute;border-left: 1px solid gray;box-sizing: border-box;top: 0;bottom: 0;left: 50%;z-index: 0;}#sk-container-id-9 div.sk-serial {display: flex;flex-direction: column;align-items: center;background-color: white;padding-right: 0.2em;padding-left: 0.2em;position: relative;}#sk-container-id-9 div.sk-item {position: relative;z-index: 1;}#sk-container-id-9 div.sk-parallel {display: flex;align-items: stretch;justify-content: center;background-color: white;position: relative;}#sk-container-id-9 div.sk-item::before, #sk-container-id-9 div.sk-parallel-item::before {content: \"\";position: absolute;border-left: 1px solid gray;box-sizing: border-box;top: 0;bottom: 0;left: 50%;z-index: -1;}#sk-container-id-9 div.sk-parallel-item {display: flex;flex-direction: column;z-index: 1;position: relative;background-color: white;}#sk-container-id-9 div.sk-parallel-item:first-child::after {align-self: flex-end;width: 50%;}#sk-container-id-9 div.sk-parallel-item:last-child::after {align-self: flex-start;width: 50%;}#sk-container-id-9 div.sk-parallel-item:only-child::after {width: 0;}#sk-container-id-9 div.sk-dashed-wrapped {border: 1px dashed gray;margin: 0 0.4em 0.5em 0.4em;box-sizing: border-box;padding-bottom: 0.4em;background-color: white;}#sk-container-id-9 div.sk-label label {font-family: monospace;font-weight: bold;display: inline-block;line-height: 1.2em;}#sk-container-id-9 div.sk-label-container {text-align: center;}#sk-container-id-9 div.sk-container {/* jupyter's `normalize.less` sets `[hidden] { display: none; }` but bootstrap.min.css set `[hidden] { display: none !important; }` so we also need the `!important` here to be able to override the default hidden behavior on the sphinx rendered scikit-learn.org. See: https://github.com/scikit-learn/scikit-learn/issues/21755 */display: inline-block !important;position: relative;}#sk-container-id-9 div.sk-text-repr-fallback {display: none;}</style><div id=\"sk-container-id-9\" class=\"sk-top-container\"><div class=\"sk-text-repr-fallback\"><pre>MultinomialNB()</pre><b>In a Jupyter environment, please rerun this cell to show the HTML representation or trust the notebook. <br />On GitHub, the HTML representation is unable to render, please try loading this page with nbviewer.org.</b></div><div class=\"sk-container\" hidden><div class=\"sk-item\"><div class=\"sk-estimator sk-toggleable\"><input class=\"sk-toggleable__control sk-hidden--visually\" id=\"sk-estimator-id-9\" type=\"checkbox\" checked><label for=\"sk-estimator-id-9\" class=\"sk-toggleable__label sk-toggleable__label-arrow\">MultinomialNB</label><div class=\"sk-toggleable__content\"><pre>MultinomialNB()</pre></div></div></div></div></div>"
      ],
      "text/plain": [
       "MultinomialNB()"
      ]
     },
     "execution_count": 17,
     "metadata": {},
     "output_type": "execute_result"
    }
   ],
   "source": [
    "from sklearn.naive_bayes import MultinomialNB\n",
    "from sklearn import tree\n",
    "import numpy as np\n",
    "from sklearn.feature_extraction.text import CountVectorizer\n",
    "\n",
    "# Empezamos con la bolsa de palabras\n",
    "\n",
    "cv = CountVectorizer()\n",
    "\n",
    "cv_matrix_train = cv.fit_transform(norm_train_corpus)\n",
    "\n",
    "mnb_classifier_bolsa = MultinomialNB()\n",
    "\n",
    "mnb_classifier_bolsa.fit(cv_matrix_train, type_train)"
   ]
  },
  {
   "cell_type": "code",
   "execution_count": 18,
   "id": "711d9f95-828e-4d05-8d1a-8e159c7d7777",
   "metadata": {},
   "outputs": [
    {
     "data": {
      "text/html": [
       "<style>#sk-container-id-10 {color: black;}#sk-container-id-10 pre{padding: 0;}#sk-container-id-10 div.sk-toggleable {background-color: white;}#sk-container-id-10 label.sk-toggleable__label {cursor: pointer;display: block;width: 100%;margin-bottom: 0;padding: 0.3em;box-sizing: border-box;text-align: center;}#sk-container-id-10 label.sk-toggleable__label-arrow:before {content: \"▸\";float: left;margin-right: 0.25em;color: #696969;}#sk-container-id-10 label.sk-toggleable__label-arrow:hover:before {color: black;}#sk-container-id-10 div.sk-estimator:hover label.sk-toggleable__label-arrow:before {color: black;}#sk-container-id-10 div.sk-toggleable__content {max-height: 0;max-width: 0;overflow: hidden;text-align: left;background-color: #f0f8ff;}#sk-container-id-10 div.sk-toggleable__content pre {margin: 0.2em;color: black;border-radius: 0.25em;background-color: #f0f8ff;}#sk-container-id-10 input.sk-toggleable__control:checked~div.sk-toggleable__content {max-height: 200px;max-width: 100%;overflow: auto;}#sk-container-id-10 input.sk-toggleable__control:checked~label.sk-toggleable__label-arrow:before {content: \"▾\";}#sk-container-id-10 div.sk-estimator input.sk-toggleable__control:checked~label.sk-toggleable__label {background-color: #d4ebff;}#sk-container-id-10 div.sk-label input.sk-toggleable__control:checked~label.sk-toggleable__label {background-color: #d4ebff;}#sk-container-id-10 input.sk-hidden--visually {border: 0;clip: rect(1px 1px 1px 1px);clip: rect(1px, 1px, 1px, 1px);height: 1px;margin: -1px;overflow: hidden;padding: 0;position: absolute;width: 1px;}#sk-container-id-10 div.sk-estimator {font-family: monospace;background-color: #f0f8ff;border: 1px dotted black;border-radius: 0.25em;box-sizing: border-box;margin-bottom: 0.5em;}#sk-container-id-10 div.sk-estimator:hover {background-color: #d4ebff;}#sk-container-id-10 div.sk-parallel-item::after {content: \"\";width: 100%;border-bottom: 1px solid gray;flex-grow: 1;}#sk-container-id-10 div.sk-label:hover label.sk-toggleable__label {background-color: #d4ebff;}#sk-container-id-10 div.sk-serial::before {content: \"\";position: absolute;border-left: 1px solid gray;box-sizing: border-box;top: 0;bottom: 0;left: 50%;z-index: 0;}#sk-container-id-10 div.sk-serial {display: flex;flex-direction: column;align-items: center;background-color: white;padding-right: 0.2em;padding-left: 0.2em;position: relative;}#sk-container-id-10 div.sk-item {position: relative;z-index: 1;}#sk-container-id-10 div.sk-parallel {display: flex;align-items: stretch;justify-content: center;background-color: white;position: relative;}#sk-container-id-10 div.sk-item::before, #sk-container-id-10 div.sk-parallel-item::before {content: \"\";position: absolute;border-left: 1px solid gray;box-sizing: border-box;top: 0;bottom: 0;left: 50%;z-index: -1;}#sk-container-id-10 div.sk-parallel-item {display: flex;flex-direction: column;z-index: 1;position: relative;background-color: white;}#sk-container-id-10 div.sk-parallel-item:first-child::after {align-self: flex-end;width: 50%;}#sk-container-id-10 div.sk-parallel-item:last-child::after {align-self: flex-start;width: 50%;}#sk-container-id-10 div.sk-parallel-item:only-child::after {width: 0;}#sk-container-id-10 div.sk-dashed-wrapped {border: 1px dashed gray;margin: 0 0.4em 0.5em 0.4em;box-sizing: border-box;padding-bottom: 0.4em;background-color: white;}#sk-container-id-10 div.sk-label label {font-family: monospace;font-weight: bold;display: inline-block;line-height: 1.2em;}#sk-container-id-10 div.sk-label-container {text-align: center;}#sk-container-id-10 div.sk-container {/* jupyter's `normalize.less` sets `[hidden] { display: none; }` but bootstrap.min.css set `[hidden] { display: none !important; }` so we also need the `!important` here to be able to override the default hidden behavior on the sphinx rendered scikit-learn.org. See: https://github.com/scikit-learn/scikit-learn/issues/21755 */display: inline-block !important;position: relative;}#sk-container-id-10 div.sk-text-repr-fallback {display: none;}</style><div id=\"sk-container-id-10\" class=\"sk-top-container\"><div class=\"sk-text-repr-fallback\"><pre>MultinomialNB()</pre><b>In a Jupyter environment, please rerun this cell to show the HTML representation or trust the notebook. <br />On GitHub, the HTML representation is unable to render, please try loading this page with nbviewer.org.</b></div><div class=\"sk-container\" hidden><div class=\"sk-item\"><div class=\"sk-estimator sk-toggleable\"><input class=\"sk-toggleable__control sk-hidden--visually\" id=\"sk-estimator-id-10\" type=\"checkbox\" checked><label for=\"sk-estimator-id-10\" class=\"sk-toggleable__label sk-toggleable__label-arrow\">MultinomialNB</label><div class=\"sk-toggleable__content\"><pre>MultinomialNB()</pre></div></div></div></div></div>"
      ],
      "text/plain": [
       "MultinomialNB()"
      ]
     },
     "execution_count": 18,
     "metadata": {},
     "output_type": "execute_result"
    }
   ],
   "source": [
    "# Representación TF-IDF\n",
    "from sklearn.feature_extraction.text import TfidfVectorizer\n",
    "\n",
    "tv = TfidfVectorizer()\n",
    "\n",
    "tv_matrix_train = tv.fit_transform(norm_train_corpus)\n",
    "\n",
    "# Creamos el clasificador con los valores por defecto\n",
    "mnb_classifier_TFIDF = MultinomialNB()\n",
    "\n",
    "mnb_classifier_TFIDF.fit(tv_matrix_train, type_train)"
   ]
  },
  {
   "cell_type": "markdown",
   "id": "a876cc96-d810-48db-acfb-694bf88b2119",
   "metadata": {},
   "source": [
    "## Red Neuronal"
   ]
  },
  {
   "cell_type": "code",
   "execution_count": 19,
   "id": "uARfZxTkYvSI",
   "metadata": {
    "id": "uARfZxTkYvSI"
   },
   "outputs": [],
   "source": [
    "def tokenize_data(df):\n",
    "    from json import load\n",
    "    from keras.preprocessing.text import tokenizer_from_json\n",
    "    from keras.utils import pad_sequences\n",
    "    with open(TOKENIZER_PATH) as f:\n",
    "        data = load(f)\n",
    "        tokenizer = tokenizer_from_json(data)\n",
    "        sequences = tokenizer.texts_to_sequences(df[0])\n",
    "        data = pad_sequences(sequences, maxlen=40)\n",
    "        return data\n",
    "\n",
    "def neural_network_predict(df):\n",
    "    from keras.models import load_model\n",
    "    reconstructed_model = load_model(REDNEURONAL_PATH)\n",
    "    y_pred = reconstructed_model.predict(df)\n",
    "    return [\"Humano\" if y_pred[i] > 0.5 else \"IA\" for i in range(len(y_pred))]"
   ]
  },
  {
   "cell_type": "markdown",
   "id": "931c8639-b16d-4f1a-aede-2a8f644cb2e2",
   "metadata": {},
   "source": [
    "## Interfaz"
   ]
  },
  {
   "cell_type": "code",
   "execution_count": 14,
   "id": "bbc502ac-e29c-4bce-9fc2-4f10c4aa01f4",
   "metadata": {
    "id": "bbc502ac-e29c-4bce-9fc2-4f10c4aa01f4",
    "outputId": "f9e3cd01-7347-4554-dac0-8ad39d885c4f"
   },
   "outputs": [
    {
     "name": "stderr",
     "output_type": "stream",
     "text": [
      "bgerror failed to handle background error.\n",
      "    Original error: can't invoke \"event\" command: application has been destroyed\n",
      "    Error in bgerror: can't invoke \"tk\" command: application has been destroyed\n"
     ]
    },
    {
     "name": "stdout",
     "output_type": "stream",
     "text": [
      "1/1 [==============================] - 0s 124ms/step\n"
     ]
    }
   ],
   "source": [
    "##Aquí hago la interfaz\n",
    "\n",
    "import tkinter as tk\n",
    "from tkinter import ttk, messagebox\n",
    "import pandas as pd\n",
    "import numpy as np\n",
    "import ttkbootstrap as ttkb\n",
    "\n",
    "# Función que normaliza y clasifica el texto\n",
    "def classify_text():\n",
    "    input_text = text_entry.get(\"1.0\", \"end-1c\")  # Obtiene el texto del widget de entrada\n",
    "    if input_text.strip() == \"\":\n",
    "        messagebox.showinfo(\"Error\", \"Por favor, ingresa un texto para clasificar.\")\n",
    "        return\n",
    "\n",
    "    # Transformamos el texto a DataFrame\n",
    "    prueba_Texto = [input_text]\n",
    "    frase_prueba = pd.DataFrame(prueba_Texto)\n",
    "\n",
    "\n",
    "    # Seleccionamos el clasificador según el método elegido\n",
    "    selected_method = method_var.get()\n",
    "    if selected_method == \"Árbol de clasificación (Bolsa de palabras)\":\n",
    "        norm = normalize_corpus(np.array(frase_prueba[0]))\n",
    "        prediction = tree_classifier_bolsa.predict(cv.transform(norm))\n",
    "        result = \"IA\" if prediction == 'ia' else \"Humano\" \n",
    "    elif selected_method == \"Árbol de clasificación (TF-IDF)\":\n",
    "        norm = normalize_corpus(np.array(frase_prueba[0]))\n",
    "        prediction = tree_classifier_TFIDF.predict(cv.transform(norm))\n",
    "        result = \"IA\" if prediction == 'ia' else \"Humano\"\n",
    "        pass\n",
    "    elif selected_method == \"Naïve Bayes (Bolsa de palabras)\":\n",
    "        norm = normalize_corpus(np.array(frase_prueba[0]))\n",
    "        prediction = mnb_classifier_bolsa.predict(cv.transform(norm))\n",
    "        result = \"IA\" if prediction == 'ia' else \"Humano\"\n",
    "        pass\n",
    "    elif selected_method == \"Naïve Bayes (TF-IDF)\":\n",
    "        norm = normalize_corpus(np.array(frase_prueba[0]))\n",
    "        prediction = mnb_classifier_TFIDF.predict(cv.transform(norm))\n",
    "        result = \"IA\" if prediction == 'ia' else \"Humano\"\n",
    "        pass\n",
    "        \n",
    "    elif selected_method == \"Red neuronal\":\n",
    "        data = tokenize_data(frase_prueba)\n",
    "        result = neural_network_predict(data)[0]\n",
    "        pass\n",
    "\n",
    "    # Mostramos el resultado en un cuadro de mensaje\n",
    "\n",
    "    messagebox.showinfo(\"Resultado\", f\"El texto es clasificado como: {result}\")\n",
    "\n",
    "# Configuración de la ventana principal\n",
    "# Creamos la ventana con un estilo de ttkbootstrap\n",
    "root = ttkb.Window(themename='darkly')\n",
    "root.title(\"Clasificador de Texto IA/Humano\")\n",
    "\n",
    "# Crear un widget de entrada de texto\n",
    "text_entry = tk.Text(root, height=10, width=100)\n",
    "text_entry.pack()\n",
    "\n",
    "# Variable para el método de clasificación seleccionado\n",
    "method_var = tk.StringVar(root)\n",
    "method_var.set(\"Árbol de clasificación\")  # default value\n",
    "\n",
    "# Podemos usar widgets de ttk en lugar de los de tk para aprovechar los estilos\n",
    "method_menu = ttk.OptionMenu(root, method_var, \"Seleccionar Método\", \"Árbol de clasificación (Bolsa de palabras)\",\"Árbol de clasificación (TF-IDF)\", \"Naïve Bayes (Bolsa de palabras)\",\"Naïve Bayes (TF-IDF)\", \"Red neuronal\")\n",
    "method_menu.pack()\n",
    "\n",
    "classify_button = ttk.Button(root, text=\"Clasificar Texto\", command=classify_text, bootstyle='success')  # Botón con estilo\n",
    "classify_button.pack()\n",
    "\n",
    "\n",
    "# Ejecutar la aplicación\n",
    "root.mainloop()"
   ]
  }
 ],
 "metadata": {
  "colab": {
   "provenance": []
  },
  "kernelspec": {
   "display_name": "pruebakeras",
   "language": "python",
   "name": "mi_nuevo_entorno"
  },
  "language_info": {
   "codemirror_mode": {
    "name": "ipython",
    "version": 3
   },
   "file_extension": ".py",
   "mimetype": "text/x-python",
   "name": "python",
   "nbconvert_exporter": "python",
   "pygments_lexer": "ipython3",
   "version": "3.8.17"
  }
 },
 "nbformat": 4,
 "nbformat_minor": 5
}
